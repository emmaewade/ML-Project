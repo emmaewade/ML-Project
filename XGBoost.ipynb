{
  "cells": [
    {
      "cell_type": "markdown",
      "metadata": {
        "colab_type": "text",
        "id": "view-in-github"
      },
      "source": [
        "<a href=\"https://colab.research.google.com/github/emmaewade/ML-Project/blob/main/XGBoost.ipynb\" target=\"_parent\"><img src=\"https://colab.research.google.com/assets/colab-badge.svg\" alt=\"Open In Colab\"/></a>"
      ]
    },
    {
      "cell_type": "code",
      "execution_count": null,
      "metadata": {
        "id": "1T82NlXKpWwI"
      },
      "outputs": [],
      "source": [
        "import os\n",
        "import pandas as pd\n",
        "import numpy as np\n",
        "import math\n",
        "import random\n",
        "import collections\n",
        "import timeit\n",
        "import xgboost as xgb\n",
        "import sklearn.metrics\n",
        "\n",
        "from sklearn.feature_selection import SelectFromModel\n",
        "from sklearn.linear_model import LogisticRegression\n",
        "from sklearn.model_selection import train_test_split\n",
        "from sklearn.metrics import mean_squared_error"
      ]
    },
    {
      "cell_type": "code",
      "execution_count": null,
      "metadata": {},
      "outputs": [],
      "source": [
        "final_df = pd.read_csv('final_train_df.csv')\n",
        "# Convert dataframe to numpy array.\n",
        "X = final_df.drop(['comp_id', 'views'], axis=1).to_numpy()\n",
        "y = final_df.loc[:, 'views'].to_numpy()\n",
        "\n",
        "# Train-Test Split\n",
        "X_train, X_test, y_train, y_test = train_test_split(X, y, test_size = 0.25, random_state = 121)\n",
        "print('Training set shape ', X_train.shape)\n",
        "print('Test set shape ', X_test.shape)\n",
        "#print(X_train)\n",
        "#print(X)"
      ]
    },
    {
      "cell_type": "code",
      "execution_count": null,
      "metadata": {
        "id": "iv9XgpT2gOya"
      },
      "outputs": [],
      "source": [
        "trlabel = y_train\n",
        "telabel = y_test\n",
        "\n",
        "dtrain = xgb.DMatrix(X_train, label=trlabel)\n",
        "dtest  = xgb.DMatrix(X_test, label=telabel)\n"
      ]
    },
    {
      "cell_type": "markdown",
      "metadata": {
        "id": "e8MRm1ePgmxK"
      },
      "source": [
        "setting parameters"
      ]
    },
    {
      "cell_type": "code",
      "execution_count": null,
      "metadata": {
        "id": "GFCyHRiWgo7G"
      },
      "outputs": [],
      "source": [
        "# Set parameters.\n",
        "param = {'max_depth': 7, \n",
        "         'eta': 0.2,\n",
        "         'objective': 'reg:squarederror',\n",
        "         'nthread': 5,\n",
        "         'eval_metric': 'rmse'\n",
        "        }\n",
        "\n",
        "evallist = [(dtest, 'eval'), (dtrain, 'train')]"
      ]
    },
    {
      "cell_type": "markdown",
      "metadata": {
        "id": "awOWRaCog2KF"
      },
      "source": [
        "train the model"
      ]
    },
    {
      "cell_type": "code",
      "execution_count": null,
      "metadata": {
        "colab": {
          "base_uri": "https://localhost:8080/"
        },
        "id": "lCx3WfWWg4AT",
        "outputId": "547a48c9-97ca-43db-a535-c549024992f1"
      },
      "outputs": [
        {
          "name": "stdout",
          "output_type": "stream",
          "text": [
            "[0]\teval-rmse:1279.23\ttrain-rmse:1179.16\n",
            "[1]\teval-rmse:1218.13\ttrain-rmse:1059.67\n",
            "[2]\teval-rmse:1172.41\ttrain-rmse:978.234\n",
            "[3]\teval-rmse:1140.65\ttrain-rmse:903.757\n",
            "[4]\teval-rmse:1124.44\ttrain-rmse:839.028\n",
            "[5]\teval-rmse:1114.6\ttrain-rmse:790.458\n",
            "[6]\teval-rmse:1110.07\ttrain-rmse:732.671\n",
            "[7]\teval-rmse:1108.61\ttrain-rmse:708.463\n",
            "[8]\teval-rmse:1106.16\ttrain-rmse:665.929\n",
            "[9]\teval-rmse:1106.55\ttrain-rmse:623.156\n",
            "[10]\teval-rmse:1108.17\ttrain-rmse:597.593\n",
            "[11]\teval-rmse:1113.58\ttrain-rmse:551.722\n",
            "[12]\teval-rmse:1112.89\ttrain-rmse:523.347\n",
            "[13]\teval-rmse:1114.02\ttrain-rmse:496.569\n",
            "[14]\teval-rmse:1113.89\ttrain-rmse:474.414\n",
            "[15]\teval-rmse:1116.72\ttrain-rmse:452.051\n",
            "[16]\teval-rmse:1117.77\ttrain-rmse:433.12\n",
            "[17]\teval-rmse:1121.4\ttrain-rmse:409.371\n",
            "[18]\teval-rmse:1125.53\ttrain-rmse:384.556\n",
            "[19]\teval-rmse:1126.21\ttrain-rmse:370.517\n",
            "[20]\teval-rmse:1128.62\ttrain-rmse:360.737\n",
            "[21]\teval-rmse:1129.8\ttrain-rmse:341.253\n",
            "[22]\teval-rmse:1131.02\ttrain-rmse:323.179\n",
            "[23]\teval-rmse:1133.28\ttrain-rmse:302.843\n",
            "[24]\teval-rmse:1131.88\ttrain-rmse:282.722\n",
            "[25]\teval-rmse:1132.64\ttrain-rmse:267.135\n",
            "[26]\teval-rmse:1131.25\ttrain-rmse:255.659\n",
            "[27]\teval-rmse:1128.94\ttrain-rmse:235.795\n",
            "[28]\teval-rmse:1130.01\ttrain-rmse:223.757\n",
            "[29]\teval-rmse:1126.44\ttrain-rmse:211.77\n",
            "[30]\teval-rmse:1126.72\ttrain-rmse:200.734\n",
            "[31]\teval-rmse:1128.49\ttrain-rmse:193.194\n",
            "[32]\teval-rmse:1129.49\ttrain-rmse:183.058\n",
            "[33]\teval-rmse:1129.82\ttrain-rmse:175.925\n",
            "[34]\teval-rmse:1130.94\ttrain-rmse:166.825\n",
            "[35]\teval-rmse:1129.62\ttrain-rmse:160.705\n",
            "[36]\teval-rmse:1129.58\ttrain-rmse:149.727\n",
            "[37]\teval-rmse:1129.22\ttrain-rmse:144.634\n",
            "[38]\teval-rmse:1129.83\ttrain-rmse:134.275\n",
            "[39]\teval-rmse:1129.52\ttrain-rmse:123.793\n",
            "[40]\teval-rmse:1130.05\ttrain-rmse:115.992\n",
            "[41]\teval-rmse:1130.17\ttrain-rmse:109.267\n",
            "[42]\teval-rmse:1130.29\ttrain-rmse:103.817\n",
            "[43]\teval-rmse:1129.62\ttrain-rmse:100.931\n",
            "[44]\teval-rmse:1129.86\ttrain-rmse:93.8448\n",
            "[45]\teval-rmse:1129.5\ttrain-rmse:89.281\n",
            "[46]\teval-rmse:1129.57\ttrain-rmse:87.1449\n",
            "[47]\teval-rmse:1129.54\ttrain-rmse:82.4232\n",
            "[48]\teval-rmse:1129.43\ttrain-rmse:79.7138\n",
            "[49]\teval-rmse:1129.74\ttrain-rmse:76.4673\n",
            "[50]\teval-rmse:1129.72\ttrain-rmse:72.7971\n",
            "[51]\teval-rmse:1129.68\ttrain-rmse:68.8233\n",
            "[52]\teval-rmse:1129.63\ttrain-rmse:65.3217\n",
            "[53]\teval-rmse:1129.85\ttrain-rmse:62.0915\n",
            "[54]\teval-rmse:1129.89\ttrain-rmse:58.3468\n",
            "[55]\teval-rmse:1129.67\ttrain-rmse:55.6285\n",
            "[56]\teval-rmse:1129.64\ttrain-rmse:52.8305\n",
            "[57]\teval-rmse:1129.34\ttrain-rmse:48.8645\n",
            "[58]\teval-rmse:1129.21\ttrain-rmse:46.8128\n",
            "[59]\teval-rmse:1129.12\ttrain-rmse:44.7076\n",
            "[60]\teval-rmse:1129.23\ttrain-rmse:41.6053\n",
            "[61]\teval-rmse:1129.25\ttrain-rmse:40.3215\n",
            "[62]\teval-rmse:1129\ttrain-rmse:37.3991\n",
            "[63]\teval-rmse:1129.28\ttrain-rmse:34.8594\n",
            "[64]\teval-rmse:1129.56\ttrain-rmse:32.7439\n",
            "[65]\teval-rmse:1129.71\ttrain-rmse:30.9567\n",
            "[66]\teval-rmse:1129.72\ttrain-rmse:29.0293\n",
            "[67]\teval-rmse:1129.85\ttrain-rmse:27.0545\n",
            "[68]\teval-rmse:1129.66\ttrain-rmse:24.6554\n",
            "[69]\teval-rmse:1129.38\ttrain-rmse:23.2008\n"
          ]
        }
      ],
      "source": [
        "# Train the model.\n",
        "num_round = 70\n",
        "bst = xgb.train(param, dtrain, num_round, evallist)"
      ]
    },
    {
      "cell_type": "code",
      "execution_count": null,
      "metadata": {
        "colab": {
          "base_uri": "https://localhost:8080/"
        },
        "id": "kI4DK0qphbRD",
        "outputId": "ce5c26ee-166c-4a9b-fc0d-2afcb66699f3"
      },
      "outputs": [
        {
          "name": "stdout",
          "output_type": "stream",
          "text": [
            "RMSE with XGBoost 1129.371014916415\n",
            "[1322.  341. 1937.  789. 1268.  494.  239.  390.  323. 1644.  163.  370.\n",
            "  500. 1889.  139.   51.  569.  233.  266.  218.  327.  218. 1858.  227.\n",
            "  489.  220.  119.  477.  396. 1137.  744.  436.  447.   80.  352.  259.\n",
            "  267.   28.  605.  160.  117. 4574.  109.  442.   -9.  592. 1456.  951.\n",
            "  317.  655. 1873.  140.  364. 2378.  255.  495.  410.  316.  208.  515.\n",
            "  464.  933.  617.  177.  269.  267.  236.  126.  371. 1599.  191.  341.\n",
            "  363.  151.  216. 4402. 2568.   85.  404.  606.  111.   23. 1697. 2422.\n",
            "  305.  205.  271.  441. 1043.  333.  379.  254.  436. 1141. 1018.  232.\n",
            "  268.  854.  813.  224.  766.  418.  405.  277. 1005.  330.  560.  268.\n",
            "   32. 4356.  655. 1217.  322.  464.  510.  148.   70.  322.  908.  535.\n",
            " 1146.  368.  274. 2824.  389.  530.  374.  230.  194. 1616.  271. 1504.\n",
            "  429.  412.  197. 1212.  112.  618.  970.  964.  178.  231.  284.   56.\n",
            "  270.   27.  128.  169.  169. 1172. 1111.  488.  196.  676. 1351. 1352.\n",
            " 1015.  585.  355.  243.  145. 1504.  165. 1386.  111. 2198.  212.  116.\n",
            "   -7.   75.  288.  150. 1359. 3779.  261.  131. 1553.  169.  362.  571.\n",
            "  123.   56.  154.   97.  352.  110.  483.  150.  303.  263.   55.  500.\n",
            "  342.  563. 4708.  456.  196.  218.   34.  257.  258.   81.  223.  172.\n",
            " 2946.  492.  128. 4004.  157.  734.  205.  930.  273.  147.  794.  211.\n",
            "  112.  220.  361.  235.  219.  289. 1083.  480.  515. 1701.  630.  210.\n",
            "  537.  841.  358. 1884.  247.  157.  278. 1804.  899.  155.  172.  791.\n",
            " 1029.  469.  451.  190.  294.  237.  175.  260.  487.  651.  126.  136.\n",
            "  473.  108.  662. 1168. 1035.  214.  327.  447.  317.  337.  107.  205.\n",
            "  532. 2073.  193.  970. 3696.  669.  551. 1362. 1362.  181.  208.   97.\n",
            "  587.  213.  278.  401.  248. 1286.  217. 1304.  304.  977.  204.  753.\n",
            "  348.   99.  254.  784.  577.  496.  302.  140.  623.  341.  468.  123.\n",
            "  569. 1222.  133.  468.  642. 1745.  365. 3990.  462.  264.  224.  160.\n",
            "  323.  284.  236.  200. 1640. 1249.   89.  293.  272.  415.  163.  418.\n",
            " 1007.  193.  287.  680.  391.  575.   66.  287.   25.  110.  523.  124.\n",
            " 2765.  148.  177.  240.  498.  141.  300.  212.  116. 2005.   49.   63.\n",
            "  232.  501.  283.  398.  397.  313. 1461.   79.  132.  958.  464.  106.\n",
            "  225.  533.  272.  198.  327.  632.  181.   88.  268.  362.  411.   21.\n",
            "  243. 3532.  296.  156.  502.  286.  742.  307.  145.  197.  354.  469.\n",
            " 5507.  135.  740.  191.  260.  792.  186.  465.  184.  208.  821.  757.\n",
            "  115.  203.  300.  149.  485.  229.  628.   66.  470.  388.   66.  647.\n",
            "  297.  987. 1860. 1775.  515.  202.   69.  211. 2807. 1076.  288.   59.\n",
            "  893.   60.  229.  215. 1002.  553. 3016.  236. 2170.  264.  151.  347.\n",
            "  279. 1115.  323.  130.  810.  568.  159.  504.  396.  375.  183.  206.\n",
            "  639.  847.  247.  338.  440.  822.  257. 1700.  206.  265.   59.   89.\n",
            " 1458.  543. 1641. 2184. 2553.  176.  176.  174. 1001.   97. 1363.  237.\n",
            "  641.  368.  223.  504. 2201. 3465.   97.  663.  276.  234.  128.  139.\n",
            "  664.  172.  805.  173.  181. 3460.   90.  459.  178.  271.  620.  234.\n",
            "  772.  145. 1031.  932.  830.  310.  522.  681.  135.  435.  161.  255.\n",
            "  434.  475.  337.  268.  359.  479.  311. 1125.  510.  412.  200.  345.\n",
            "  262.  179.  265. 1478.  125.  504.  -43.   82.  187.   86.  192.  349.\n",
            "  194.  619.  506.  224.  134.  751.   47.  241.  687.  645.   47. 2953.\n",
            "  809.  336. 1862.  501.  205.  316.  185.  118.  546. 3109.  820.  363.\n",
            "  249. 2148.  170.  500.  561.  416.  710.  319.  261.  181.  346.  211.\n",
            "  132.   97.  325.  616.  869. 2035.  931.  314.  146.  665.  304. 1377.\n",
            " 1078.  -18.  327.  583.  405.  294.  914. 1060.  497.  223.  495.  163.\n",
            "  691.   48. 1046.   80.  113.  265.  201.  295.  119.   79. 1502.  269.\n",
            "   73.  119.  302.  281.  495.  234.  807. 1077. 1137. 1427.  709.  256.\n",
            "  159.   89.   99.  225.  436.  260. 2623.  -71.   90.  141. 2666.  148.\n",
            "  509.  395.  620.  539.  168.   78. 2490.  826.  223.  191.   89. 1168.\n",
            "  158.  622.  445.  244.  311.  129. 3302. 1319.  282.  466.   69.  -50.\n",
            "  356.  419.  378.  660.  202.  239.  293.  325.  458.  285.  534.  274.\n",
            "  334.  302.  275. 2045.  195. 5554.  388.  676. 2862.  364.  405.  420.\n",
            "  208.  666.  253.  386.  140.  499. 1245.  497.  222.  136.  153.  582.\n",
            "  326.   79.  184.  286.  200.   74. 3111. 1286.  112.  122.  181.  159.\n",
            "  312.  152. 1302.  257.  939. 4402.  302.  160.  158. 1320.  185.  235.\n",
            "  167.   38.  123.  740.  422.  267.  104.  309.  210.   40.  110.  497.\n",
            "  313.  174.   80.  142.  155.  115.  513.  196. 1081.  200.  432.  300.\n",
            "  197.  328. 2086.  496.  247. 3037.  260.  115.  863. 2146.  110.  482.\n",
            "  223.  150.  306.  183.  476.  262.]\n"
          ]
        }
      ],
      "source": [
        "# Make prediction.\n",
        "ypred = bst.predict(dtest).round()\n",
        "ytrainpred = bst.predict(dtrain).round()\n",
        "# Compute RMSE on test set.\n",
        "mse_xgboost = mean_squared_error(y_test, ypred)\n",
        "rmse_xgboost = math.sqrt(mse_xgboost)\n",
        "\n",
        "print('RMSE with XGBoost', rmse_xgboost)\n",
        "#xgboost.get_params()\n",
        "print(ypred)"
      ]
    }
  ],
  "metadata": {
    "colab": {
      "include_colab_link": true,
      "provenance": []
    },
    "kernelspec": {
      "display_name": "Python 3",
      "name": "python3"
    },
    "language_info": {
      "name": "python"
    }
  },
  "nbformat": 4,
  "nbformat_minor": 0
}
