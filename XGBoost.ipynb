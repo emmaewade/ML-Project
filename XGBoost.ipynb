{
  "nbformat": 4,
  "nbformat_minor": 0,
  "metadata": {
    "colab": {
      "provenance": [],
      "include_colab_link": true
    },
    "kernelspec": {
      "name": "python3",
      "display_name": "Python 3"
    },
    "language_info": {
      "name": "python"
    }
  },
  "cells": [
    {
      "cell_type": "markdown",
      "metadata": {
        "id": "view-in-github",
        "colab_type": "text"
      },
      "source": [
        "<a href=\"https://colab.research.google.com/github/emmaewade/ML-Project/blob/main/XGBoost.ipynb\" target=\"_parent\"><img src=\"https://colab.research.google.com/assets/colab-badge.svg\" alt=\"Open In Colab\"/></a>"
      ]
    },
    {
      "cell_type": "code",
      "execution_count": null,
      "metadata": {
        "id": "1T82NlXKpWwI"
      },
      "outputs": [],
      "source": [
        "import os\n",
        "import pandas as pd\n",
        "import numpy as np\n",
        "import math\n",
        "import random\n",
        "import collections\n",
        "import timeit\n",
        "import xgboost as xgb\n",
        "import sklearn.metrics\n",
        "\n",
        "from sklearn.feature_selection import SelectFromModel\n",
        "from sklearn.linear_model import LogisticRegression\n",
        "from sklearn.model_selection import train_test_split\n",
        "from sklearn.metrics import mean_squared_error"
      ]
    },
    {
      "cell_type": "code",
      "source": [
        "!ls\n",
        "\n"
      ],
      "metadata": {
        "colab": {
          "base_uri": "https://localhost:8080/"
        },
        "id": "BKHIPb7QxDKh",
        "outputId": "7e9c0431-b228-41f6-f3c6-e55cfddfec2f"
      },
      "execution_count": null,
      "outputs": [
        {
          "output_type": "stream",
          "name": "stdout",
          "text": [
            "final_test_df.csv   public_image_df.csv  sample_data\t     train_meta_df.csv\n",
            "final_train_df.csv  public_meta_df.csv\t train_desc_df.csv   train_title_df.csv\n",
            "public_desc_df.csv  public_title_df.csv  train_image_df.csv\n"
          ]
        }
      ]
    },
    {
      "cell_type": "code",
      "source": [
        "# Load training datasets\n",
        "desc_train = pd.read_csv('train_desc_df.csv')\n",
        "meta_train = pd.read_csv('train_meta_df.csv')\n",
        "image_train = pd.read_csv('train_image_df.csv')\n",
        "title_train = pd.read_csv('train_title_df.csv')\n",
        "\n",
        "# Load public datasets (datasets used for the rankings)\n",
        "desc_test = pd.read_csv('public_desc_df.csv')\n",
        "meta_test = pd.read_csv('public_meta_df.csv')\n",
        "image_test = pd.read_csv('public_image_df.csv')\n",
        "title_test = pd.read_csv('public_title_df.csv')\n",
        "\n",
        "\n",
        "print('Dimension of train description data is', desc_train.shape)\n",
        "print('Dimension of train meta data is', meta_train.shape)\n",
        "print('Dimension of train image data is', image_train.shape)\n",
        "print('Dimension of train title data is', title_train.shape)\n",
        "\n",
        "print('Dimension of test description data is', desc_test.shape)\n",
        "print('Dimension of test meta data is', meta_test.shape)\n",
        "print('Dimension of test image data is', meta_test.shape)\n",
        "print('Dimension of test title data is', title_test.shape)"
      ],
      "metadata": {
        "colab": {
          "base_uri": "https://localhost:8080/"
        },
        "id": "_mDeQTaLxFua",
        "outputId": "3a38c725-e762-4ab3-9319-511bfa251fdf"
      },
      "execution_count": null,
      "outputs": [
        {
          "output_type": "stream",
          "name": "stdout",
          "text": [
            "Dimension of train description data is (3000, 51)\n",
            "Dimension of train meta data is (3000, 14)\n",
            "Dimension of train image data is (3000, 4001)\n",
            "Dimension of train title data is (3000, 51)\n",
            "Dimension of test description data is (986, 51)\n",
            "Dimension of test meta data is (986, 13)\n",
            "Dimension of test image data is (986, 13)\n",
            "Dimension of test title data is (986, 51)\n"
          ]
        }
      ]
    },
    {
      "cell_type": "code",
      "source": [
        "meta_train.head()"
      ],
      "metadata": {
        "colab": {
          "base_uri": "https://localhost:8080/",
          "height": 270
        },
        "id": "mC-Ynfdh3RRu",
        "outputId": "c8f7f930-55c7-4e09-92d2-c8db751d0a6b"
      },
      "execution_count": null,
      "outputs": [
        {
          "output_type": "execute_result",
          "data": {
            "text/plain": [
              "   comp_id  ad_blocked  embed    ratio  duration  language  partner  \\\n",
              "0        1       False   True  1.77778        86         3     True   \n",
              "1        2       False   True  1.33333      1129         2     True   \n",
              "2        3       False   True  1.76667      1163         2     True   \n",
              "3        4       False   True  1.77778      1326         2     True   \n",
              "4        5       False   True  1.77273      2612         2     True   \n",
              "\n",
              "   partner_active  n_likes  views  n_tags  n_formats  dayofweek  hour  \n",
              "0           False        0    290       3          0          5     6  \n",
              "1           False        0   1443       0          2          5     6  \n",
              "2           False        0    329       0          1          5     6  \n",
              "3           False        0     63       0          3          5     6  \n",
              "4           False        3     37       0          0          5     6  "
            ],
            "text/html": [
              "\n",
              "  <div id=\"df-fd4bffbd-2b77-47b0-8e97-6bedd09ac87b\">\n",
              "    <div class=\"colab-df-container\">\n",
              "      <div>\n",
              "<style scoped>\n",
              "    .dataframe tbody tr th:only-of-type {\n",
              "        vertical-align: middle;\n",
              "    }\n",
              "\n",
              "    .dataframe tbody tr th {\n",
              "        vertical-align: top;\n",
              "    }\n",
              "\n",
              "    .dataframe thead th {\n",
              "        text-align: right;\n",
              "    }\n",
              "</style>\n",
              "<table border=\"1\" class=\"dataframe\">\n",
              "  <thead>\n",
              "    <tr style=\"text-align: right;\">\n",
              "      <th></th>\n",
              "      <th>comp_id</th>\n",
              "      <th>ad_blocked</th>\n",
              "      <th>embed</th>\n",
              "      <th>ratio</th>\n",
              "      <th>duration</th>\n",
              "      <th>language</th>\n",
              "      <th>partner</th>\n",
              "      <th>partner_active</th>\n",
              "      <th>n_likes</th>\n",
              "      <th>views</th>\n",
              "      <th>n_tags</th>\n",
              "      <th>n_formats</th>\n",
              "      <th>dayofweek</th>\n",
              "      <th>hour</th>\n",
              "    </tr>\n",
              "  </thead>\n",
              "  <tbody>\n",
              "    <tr>\n",
              "      <th>0</th>\n",
              "      <td>1</td>\n",
              "      <td>False</td>\n",
              "      <td>True</td>\n",
              "      <td>1.77778</td>\n",
              "      <td>86</td>\n",
              "      <td>3</td>\n",
              "      <td>True</td>\n",
              "      <td>False</td>\n",
              "      <td>0</td>\n",
              "      <td>290</td>\n",
              "      <td>3</td>\n",
              "      <td>0</td>\n",
              "      <td>5</td>\n",
              "      <td>6</td>\n",
              "    </tr>\n",
              "    <tr>\n",
              "      <th>1</th>\n",
              "      <td>2</td>\n",
              "      <td>False</td>\n",
              "      <td>True</td>\n",
              "      <td>1.33333</td>\n",
              "      <td>1129</td>\n",
              "      <td>2</td>\n",
              "      <td>True</td>\n",
              "      <td>False</td>\n",
              "      <td>0</td>\n",
              "      <td>1443</td>\n",
              "      <td>0</td>\n",
              "      <td>2</td>\n",
              "      <td>5</td>\n",
              "      <td>6</td>\n",
              "    </tr>\n",
              "    <tr>\n",
              "      <th>2</th>\n",
              "      <td>3</td>\n",
              "      <td>False</td>\n",
              "      <td>True</td>\n",
              "      <td>1.76667</td>\n",
              "      <td>1163</td>\n",
              "      <td>2</td>\n",
              "      <td>True</td>\n",
              "      <td>False</td>\n",
              "      <td>0</td>\n",
              "      <td>329</td>\n",
              "      <td>0</td>\n",
              "      <td>1</td>\n",
              "      <td>5</td>\n",
              "      <td>6</td>\n",
              "    </tr>\n",
              "    <tr>\n",
              "      <th>3</th>\n",
              "      <td>4</td>\n",
              "      <td>False</td>\n",
              "      <td>True</td>\n",
              "      <td>1.77778</td>\n",
              "      <td>1326</td>\n",
              "      <td>2</td>\n",
              "      <td>True</td>\n",
              "      <td>False</td>\n",
              "      <td>0</td>\n",
              "      <td>63</td>\n",
              "      <td>0</td>\n",
              "      <td>3</td>\n",
              "      <td>5</td>\n",
              "      <td>6</td>\n",
              "    </tr>\n",
              "    <tr>\n",
              "      <th>4</th>\n",
              "      <td>5</td>\n",
              "      <td>False</td>\n",
              "      <td>True</td>\n",
              "      <td>1.77273</td>\n",
              "      <td>2612</td>\n",
              "      <td>2</td>\n",
              "      <td>True</td>\n",
              "      <td>False</td>\n",
              "      <td>3</td>\n",
              "      <td>37</td>\n",
              "      <td>0</td>\n",
              "      <td>0</td>\n",
              "      <td>5</td>\n",
              "      <td>6</td>\n",
              "    </tr>\n",
              "  </tbody>\n",
              "</table>\n",
              "</div>\n",
              "      <button class=\"colab-df-convert\" onclick=\"convertToInteractive('df-fd4bffbd-2b77-47b0-8e97-6bedd09ac87b')\"\n",
              "              title=\"Convert this dataframe to an interactive table.\"\n",
              "              style=\"display:none;\">\n",
              "        \n",
              "  <svg xmlns=\"http://www.w3.org/2000/svg\" height=\"24px\"viewBox=\"0 0 24 24\"\n",
              "       width=\"24px\">\n",
              "    <path d=\"M0 0h24v24H0V0z\" fill=\"none\"/>\n",
              "    <path d=\"M18.56 5.44l.94 2.06.94-2.06 2.06-.94-2.06-.94-.94-2.06-.94 2.06-2.06.94zm-11 1L8.5 8.5l.94-2.06 2.06-.94-2.06-.94L8.5 2.5l-.94 2.06-2.06.94zm10 10l.94 2.06.94-2.06 2.06-.94-2.06-.94-.94-2.06-.94 2.06-2.06.94z\"/><path d=\"M17.41 7.96l-1.37-1.37c-.4-.4-.92-.59-1.43-.59-.52 0-1.04.2-1.43.59L10.3 9.45l-7.72 7.72c-.78.78-.78 2.05 0 2.83L4 21.41c.39.39.9.59 1.41.59.51 0 1.02-.2 1.41-.59l7.78-7.78 2.81-2.81c.8-.78.8-2.07 0-2.86zM5.41 20L4 18.59l7.72-7.72 1.47 1.35L5.41 20z\"/>\n",
              "  </svg>\n",
              "      </button>\n",
              "      \n",
              "  <style>\n",
              "    .colab-df-container {\n",
              "      display:flex;\n",
              "      flex-wrap:wrap;\n",
              "      gap: 12px;\n",
              "    }\n",
              "\n",
              "    .colab-df-convert {\n",
              "      background-color: #E8F0FE;\n",
              "      border: none;\n",
              "      border-radius: 50%;\n",
              "      cursor: pointer;\n",
              "      display: none;\n",
              "      fill: #1967D2;\n",
              "      height: 32px;\n",
              "      padding: 0 0 0 0;\n",
              "      width: 32px;\n",
              "    }\n",
              "\n",
              "    .colab-df-convert:hover {\n",
              "      background-color: #E2EBFA;\n",
              "      box-shadow: 0px 1px 2px rgba(60, 64, 67, 0.3), 0px 1px 3px 1px rgba(60, 64, 67, 0.15);\n",
              "      fill: #174EA6;\n",
              "    }\n",
              "\n",
              "    [theme=dark] .colab-df-convert {\n",
              "      background-color: #3B4455;\n",
              "      fill: #D2E3FC;\n",
              "    }\n",
              "\n",
              "    [theme=dark] .colab-df-convert:hover {\n",
              "      background-color: #434B5C;\n",
              "      box-shadow: 0px 1px 3px 1px rgba(0, 0, 0, 0.15);\n",
              "      filter: drop-shadow(0px 1px 2px rgba(0, 0, 0, 0.3));\n",
              "      fill: #FFFFFF;\n",
              "    }\n",
              "  </style>\n",
              "\n",
              "      <script>\n",
              "        const buttonEl =\n",
              "          document.querySelector('#df-fd4bffbd-2b77-47b0-8e97-6bedd09ac87b button.colab-df-convert');\n",
              "        buttonEl.style.display =\n",
              "          google.colab.kernel.accessAllowed ? 'block' : 'none';\n",
              "\n",
              "        async function convertToInteractive(key) {\n",
              "          const element = document.querySelector('#df-fd4bffbd-2b77-47b0-8e97-6bedd09ac87b');\n",
              "          const dataTable =\n",
              "            await google.colab.kernel.invokeFunction('convertToInteractive',\n",
              "                                                     [key], {});\n",
              "          if (!dataTable) return;\n",
              "\n",
              "          const docLinkHtml = 'Like what you see? Visit the ' +\n",
              "            '<a target=\"_blank\" href=https://colab.research.google.com/notebooks/data_table.ipynb>data table notebook</a>'\n",
              "            + ' to learn more about interactive tables.';\n",
              "          element.innerHTML = '';\n",
              "          dataTable['output_type'] = 'display_data';\n",
              "          await google.colab.output.renderOutput(dataTable, element);\n",
              "          const docLink = document.createElement('div');\n",
              "          docLink.innerHTML = docLinkHtml;\n",
              "          element.appendChild(docLink);\n",
              "        }\n",
              "      </script>\n",
              "    </div>\n",
              "  </div>\n",
              "  "
            ]
          },
          "metadata": {},
          "execution_count": 4
        }
      ]
    },
    {
      "cell_type": "code",
      "source": [
        "image_train.head()"
      ],
      "metadata": {
        "colab": {
          "base_uri": "https://localhost:8080/",
          "height": 299
        },
        "id": "D_mnBRAp3bBK",
        "outputId": "6a8abd2b-ea67-4272-9e19-e14d108c71f6"
      },
      "execution_count": null,
      "outputs": [
        {
          "output_type": "execute_result",
          "data": {
            "text/plain": [
              "   comp_id   image_1   image_2   image_3   image_4   image_5   image_6  \\\n",
              "0        1  0.484456  0.036087 -0.149328  0.144475 -0.617386  0.035018   \n",
              "1        2  0.074533 -0.015655 -0.016286 -0.480964  0.687917  0.037131   \n",
              "2        3 -0.396809  0.021490 -1.723037  0.666147 -0.631924  0.047724   \n",
              "3        4  0.995316  0.012766  0.387472 -0.684791 -0.209261  0.013654   \n",
              "4        5 -0.611648  0.000860 -0.572393  0.894287 -0.191228 -0.111583   \n",
              "\n",
              "    image_7   image_8   image_9  ...  image_3991  image_3992  image_3993  \\\n",
              "0  0.169174 -0.005733 -0.104908  ...   -0.090408   -0.032915   -0.010857   \n",
              "1 -0.149725 -0.002098  0.099383  ...   -0.625816   -0.009616    0.004558   \n",
              "2  0.336041 -0.003904  0.039683  ...   -0.078059    0.086320   -0.005606   \n",
              "3  0.138517  0.005586  0.079277  ...   -0.190714   -0.005452   -0.003889   \n",
              "4 -0.011111  0.003231 -0.160582  ...   -0.040437   -0.142134   -0.022771   \n",
              "\n",
              "   image_3994  image_3995  image_3996  image_3997  image_3998  image_3999  \\\n",
              "0   -0.015954    0.123416    0.195833   -0.066449    0.115818   -0.005140   \n",
              "1    0.008310   -0.173496    0.133518   -0.488898    0.084832    0.146566   \n",
              "2    0.002414   -0.164493    0.218473    0.151292   -0.076860    0.008321   \n",
              "3    0.013430    0.344406    0.038220    0.210446   -0.145128   -0.019172   \n",
              "4   -0.013134   -0.024869    0.125129    0.215967    0.005288    0.145715   \n",
              "\n",
              "   image_4000  \n",
              "0    0.017278  \n",
              "1    0.007997  \n",
              "2    0.012555  \n",
              "3    0.000532  \n",
              "4    0.001425  \n",
              "\n",
              "[5 rows x 4001 columns]"
            ],
            "text/html": [
              "\n",
              "  <div id=\"df-a7313890-0444-4f20-bed8-ef800d7e4837\">\n",
              "    <div class=\"colab-df-container\">\n",
              "      <div>\n",
              "<style scoped>\n",
              "    .dataframe tbody tr th:only-of-type {\n",
              "        vertical-align: middle;\n",
              "    }\n",
              "\n",
              "    .dataframe tbody tr th {\n",
              "        vertical-align: top;\n",
              "    }\n",
              "\n",
              "    .dataframe thead th {\n",
              "        text-align: right;\n",
              "    }\n",
              "</style>\n",
              "<table border=\"1\" class=\"dataframe\">\n",
              "  <thead>\n",
              "    <tr style=\"text-align: right;\">\n",
              "      <th></th>\n",
              "      <th>comp_id</th>\n",
              "      <th>image_1</th>\n",
              "      <th>image_2</th>\n",
              "      <th>image_3</th>\n",
              "      <th>image_4</th>\n",
              "      <th>image_5</th>\n",
              "      <th>image_6</th>\n",
              "      <th>image_7</th>\n",
              "      <th>image_8</th>\n",
              "      <th>image_9</th>\n",
              "      <th>...</th>\n",
              "      <th>image_3991</th>\n",
              "      <th>image_3992</th>\n",
              "      <th>image_3993</th>\n",
              "      <th>image_3994</th>\n",
              "      <th>image_3995</th>\n",
              "      <th>image_3996</th>\n",
              "      <th>image_3997</th>\n",
              "      <th>image_3998</th>\n",
              "      <th>image_3999</th>\n",
              "      <th>image_4000</th>\n",
              "    </tr>\n",
              "  </thead>\n",
              "  <tbody>\n",
              "    <tr>\n",
              "      <th>0</th>\n",
              "      <td>1</td>\n",
              "      <td>0.484456</td>\n",
              "      <td>0.036087</td>\n",
              "      <td>-0.149328</td>\n",
              "      <td>0.144475</td>\n",
              "      <td>-0.617386</td>\n",
              "      <td>0.035018</td>\n",
              "      <td>0.169174</td>\n",
              "      <td>-0.005733</td>\n",
              "      <td>-0.104908</td>\n",
              "      <td>...</td>\n",
              "      <td>-0.090408</td>\n",
              "      <td>-0.032915</td>\n",
              "      <td>-0.010857</td>\n",
              "      <td>-0.015954</td>\n",
              "      <td>0.123416</td>\n",
              "      <td>0.195833</td>\n",
              "      <td>-0.066449</td>\n",
              "      <td>0.115818</td>\n",
              "      <td>-0.005140</td>\n",
              "      <td>0.017278</td>\n",
              "    </tr>\n",
              "    <tr>\n",
              "      <th>1</th>\n",
              "      <td>2</td>\n",
              "      <td>0.074533</td>\n",
              "      <td>-0.015655</td>\n",
              "      <td>-0.016286</td>\n",
              "      <td>-0.480964</td>\n",
              "      <td>0.687917</td>\n",
              "      <td>0.037131</td>\n",
              "      <td>-0.149725</td>\n",
              "      <td>-0.002098</td>\n",
              "      <td>0.099383</td>\n",
              "      <td>...</td>\n",
              "      <td>-0.625816</td>\n",
              "      <td>-0.009616</td>\n",
              "      <td>0.004558</td>\n",
              "      <td>0.008310</td>\n",
              "      <td>-0.173496</td>\n",
              "      <td>0.133518</td>\n",
              "      <td>-0.488898</td>\n",
              "      <td>0.084832</td>\n",
              "      <td>0.146566</td>\n",
              "      <td>0.007997</td>\n",
              "    </tr>\n",
              "    <tr>\n",
              "      <th>2</th>\n",
              "      <td>3</td>\n",
              "      <td>-0.396809</td>\n",
              "      <td>0.021490</td>\n",
              "      <td>-1.723037</td>\n",
              "      <td>0.666147</td>\n",
              "      <td>-0.631924</td>\n",
              "      <td>0.047724</td>\n",
              "      <td>0.336041</td>\n",
              "      <td>-0.003904</td>\n",
              "      <td>0.039683</td>\n",
              "      <td>...</td>\n",
              "      <td>-0.078059</td>\n",
              "      <td>0.086320</td>\n",
              "      <td>-0.005606</td>\n",
              "      <td>0.002414</td>\n",
              "      <td>-0.164493</td>\n",
              "      <td>0.218473</td>\n",
              "      <td>0.151292</td>\n",
              "      <td>-0.076860</td>\n",
              "      <td>0.008321</td>\n",
              "      <td>0.012555</td>\n",
              "    </tr>\n",
              "    <tr>\n",
              "      <th>3</th>\n",
              "      <td>4</td>\n",
              "      <td>0.995316</td>\n",
              "      <td>0.012766</td>\n",
              "      <td>0.387472</td>\n",
              "      <td>-0.684791</td>\n",
              "      <td>-0.209261</td>\n",
              "      <td>0.013654</td>\n",
              "      <td>0.138517</td>\n",
              "      <td>0.005586</td>\n",
              "      <td>0.079277</td>\n",
              "      <td>...</td>\n",
              "      <td>-0.190714</td>\n",
              "      <td>-0.005452</td>\n",
              "      <td>-0.003889</td>\n",
              "      <td>0.013430</td>\n",
              "      <td>0.344406</td>\n",
              "      <td>0.038220</td>\n",
              "      <td>0.210446</td>\n",
              "      <td>-0.145128</td>\n",
              "      <td>-0.019172</td>\n",
              "      <td>0.000532</td>\n",
              "    </tr>\n",
              "    <tr>\n",
              "      <th>4</th>\n",
              "      <td>5</td>\n",
              "      <td>-0.611648</td>\n",
              "      <td>0.000860</td>\n",
              "      <td>-0.572393</td>\n",
              "      <td>0.894287</td>\n",
              "      <td>-0.191228</td>\n",
              "      <td>-0.111583</td>\n",
              "      <td>-0.011111</td>\n",
              "      <td>0.003231</td>\n",
              "      <td>-0.160582</td>\n",
              "      <td>...</td>\n",
              "      <td>-0.040437</td>\n",
              "      <td>-0.142134</td>\n",
              "      <td>-0.022771</td>\n",
              "      <td>-0.013134</td>\n",
              "      <td>-0.024869</td>\n",
              "      <td>0.125129</td>\n",
              "      <td>0.215967</td>\n",
              "      <td>0.005288</td>\n",
              "      <td>0.145715</td>\n",
              "      <td>0.001425</td>\n",
              "    </tr>\n",
              "  </tbody>\n",
              "</table>\n",
              "<p>5 rows × 4001 columns</p>\n",
              "</div>\n",
              "      <button class=\"colab-df-convert\" onclick=\"convertToInteractive('df-a7313890-0444-4f20-bed8-ef800d7e4837')\"\n",
              "              title=\"Convert this dataframe to an interactive table.\"\n",
              "              style=\"display:none;\">\n",
              "        \n",
              "  <svg xmlns=\"http://www.w3.org/2000/svg\" height=\"24px\"viewBox=\"0 0 24 24\"\n",
              "       width=\"24px\">\n",
              "    <path d=\"M0 0h24v24H0V0z\" fill=\"none\"/>\n",
              "    <path d=\"M18.56 5.44l.94 2.06.94-2.06 2.06-.94-2.06-.94-.94-2.06-.94 2.06-2.06.94zm-11 1L8.5 8.5l.94-2.06 2.06-.94-2.06-.94L8.5 2.5l-.94 2.06-2.06.94zm10 10l.94 2.06.94-2.06 2.06-.94-2.06-.94-.94-2.06-.94 2.06-2.06.94z\"/><path d=\"M17.41 7.96l-1.37-1.37c-.4-.4-.92-.59-1.43-.59-.52 0-1.04.2-1.43.59L10.3 9.45l-7.72 7.72c-.78.78-.78 2.05 0 2.83L4 21.41c.39.39.9.59 1.41.59.51 0 1.02-.2 1.41-.59l7.78-7.78 2.81-2.81c.8-.78.8-2.07 0-2.86zM5.41 20L4 18.59l7.72-7.72 1.47 1.35L5.41 20z\"/>\n",
              "  </svg>\n",
              "      </button>\n",
              "      \n",
              "  <style>\n",
              "    .colab-df-container {\n",
              "      display:flex;\n",
              "      flex-wrap:wrap;\n",
              "      gap: 12px;\n",
              "    }\n",
              "\n",
              "    .colab-df-convert {\n",
              "      background-color: #E8F0FE;\n",
              "      border: none;\n",
              "      border-radius: 50%;\n",
              "      cursor: pointer;\n",
              "      display: none;\n",
              "      fill: #1967D2;\n",
              "      height: 32px;\n",
              "      padding: 0 0 0 0;\n",
              "      width: 32px;\n",
              "    }\n",
              "\n",
              "    .colab-df-convert:hover {\n",
              "      background-color: #E2EBFA;\n",
              "      box-shadow: 0px 1px 2px rgba(60, 64, 67, 0.3), 0px 1px 3px 1px rgba(60, 64, 67, 0.15);\n",
              "      fill: #174EA6;\n",
              "    }\n",
              "\n",
              "    [theme=dark] .colab-df-convert {\n",
              "      background-color: #3B4455;\n",
              "      fill: #D2E3FC;\n",
              "    }\n",
              "\n",
              "    [theme=dark] .colab-df-convert:hover {\n",
              "      background-color: #434B5C;\n",
              "      box-shadow: 0px 1px 3px 1px rgba(0, 0, 0, 0.15);\n",
              "      filter: drop-shadow(0px 1px 2px rgba(0, 0, 0, 0.3));\n",
              "      fill: #FFFFFF;\n",
              "    }\n",
              "  </style>\n",
              "\n",
              "      <script>\n",
              "        const buttonEl =\n",
              "          document.querySelector('#df-a7313890-0444-4f20-bed8-ef800d7e4837 button.colab-df-convert');\n",
              "        buttonEl.style.display =\n",
              "          google.colab.kernel.accessAllowed ? 'block' : 'none';\n",
              "\n",
              "        async function convertToInteractive(key) {\n",
              "          const element = document.querySelector('#df-a7313890-0444-4f20-bed8-ef800d7e4837');\n",
              "          const dataTable =\n",
              "            await google.colab.kernel.invokeFunction('convertToInteractive',\n",
              "                                                     [key], {});\n",
              "          if (!dataTable) return;\n",
              "\n",
              "          const docLinkHtml = 'Like what you see? Visit the ' +\n",
              "            '<a target=\"_blank\" href=https://colab.research.google.com/notebooks/data_table.ipynb>data table notebook</a>'\n",
              "            + ' to learn more about interactive tables.';\n",
              "          element.innerHTML = '';\n",
              "          dataTable['output_type'] = 'display_data';\n",
              "          await google.colab.output.renderOutput(dataTable, element);\n",
              "          const docLink = document.createElement('div');\n",
              "          docLink.innerHTML = docLinkHtml;\n",
              "          element.appendChild(docLink);\n",
              "        }\n",
              "      </script>\n",
              "    </div>\n",
              "  </div>\n",
              "  "
            ]
          },
          "metadata": {},
          "execution_count": 5
        }
      ]
    },
    {
      "cell_type": "code",
      "source": [
        "desc_train.head()"
      ],
      "metadata": {
        "colab": {
          "base_uri": "https://localhost:8080/",
          "height": 299
        },
        "id": "s0bvQ_Tq370O",
        "outputId": "e3ded25f-9fcb-48a2-9995-a884bc79ba74"
      },
      "execution_count": null,
      "outputs": [
        {
          "output_type": "execute_result",
          "data": {
            "text/plain": [
              "   comp_id    desc_1    desc_2    desc_3    desc_4    desc_5    desc_6  \\\n",
              "0        1 -0.009555  0.002479  0.002927  0.015774 -0.008177 -0.016036   \n",
              "1        2 -0.009555  0.002479  0.002927  0.015774 -0.008177 -0.016036   \n",
              "2        3 -0.356706  0.213562  0.252663  0.090735  0.328961 -0.482705   \n",
              "3        4 -0.294013  0.165262  0.257102  0.421037  0.463214 -0.769155   \n",
              "4        5 -0.028657  0.157017  0.282709 -2.674227 -0.711383  2.259387   \n",
              "\n",
              "     desc_7    desc_8    desc_9  ...   desc_41   desc_42   desc_43   desc_44  \\\n",
              "0  0.026697 -0.000106  0.025788  ... -0.029430 -0.029423  0.052256  0.007814   \n",
              "1  0.026697 -0.000106  0.025788  ... -0.029430 -0.029423  0.052256  0.007814   \n",
              "2  0.067300  0.384217 -0.147253  ... -0.626436 -0.102908  0.576792 -0.805986   \n",
              "3  0.159450  0.236385 -0.183974  ... -0.435836  0.052975  0.108777 -0.599593   \n",
              "4 -0.162175  0.605468  0.712229  ... -1.714496  0.297421 -0.097744  0.000669   \n",
              "\n",
              "    desc_45   desc_46   desc_47   desc_48   desc_49   desc_50  \n",
              "0  0.023472 -0.021134  0.003324 -0.004393  0.004294 -0.002223  \n",
              "1  0.023472 -0.021134  0.003324 -0.004393  0.004294 -0.002223  \n",
              "2  0.310637  0.422263  0.403496  0.264240  7.057590 -0.252417  \n",
              "3  0.408430  0.591615  0.415667  0.334706  7.025648 -0.309093  \n",
              "4 -1.639307  0.244313  0.099975  0.371806 -2.259024 -0.131085  \n",
              "\n",
              "[5 rows x 51 columns]"
            ],
            "text/html": [
              "\n",
              "  <div id=\"df-58173780-b62c-4fa8-8b45-377c89568a39\">\n",
              "    <div class=\"colab-df-container\">\n",
              "      <div>\n",
              "<style scoped>\n",
              "    .dataframe tbody tr th:only-of-type {\n",
              "        vertical-align: middle;\n",
              "    }\n",
              "\n",
              "    .dataframe tbody tr th {\n",
              "        vertical-align: top;\n",
              "    }\n",
              "\n",
              "    .dataframe thead th {\n",
              "        text-align: right;\n",
              "    }\n",
              "</style>\n",
              "<table border=\"1\" class=\"dataframe\">\n",
              "  <thead>\n",
              "    <tr style=\"text-align: right;\">\n",
              "      <th></th>\n",
              "      <th>comp_id</th>\n",
              "      <th>desc_1</th>\n",
              "      <th>desc_2</th>\n",
              "      <th>desc_3</th>\n",
              "      <th>desc_4</th>\n",
              "      <th>desc_5</th>\n",
              "      <th>desc_6</th>\n",
              "      <th>desc_7</th>\n",
              "      <th>desc_8</th>\n",
              "      <th>desc_9</th>\n",
              "      <th>...</th>\n",
              "      <th>desc_41</th>\n",
              "      <th>desc_42</th>\n",
              "      <th>desc_43</th>\n",
              "      <th>desc_44</th>\n",
              "      <th>desc_45</th>\n",
              "      <th>desc_46</th>\n",
              "      <th>desc_47</th>\n",
              "      <th>desc_48</th>\n",
              "      <th>desc_49</th>\n",
              "      <th>desc_50</th>\n",
              "    </tr>\n",
              "  </thead>\n",
              "  <tbody>\n",
              "    <tr>\n",
              "      <th>0</th>\n",
              "      <td>1</td>\n",
              "      <td>-0.009555</td>\n",
              "      <td>0.002479</td>\n",
              "      <td>0.002927</td>\n",
              "      <td>0.015774</td>\n",
              "      <td>-0.008177</td>\n",
              "      <td>-0.016036</td>\n",
              "      <td>0.026697</td>\n",
              "      <td>-0.000106</td>\n",
              "      <td>0.025788</td>\n",
              "      <td>...</td>\n",
              "      <td>-0.029430</td>\n",
              "      <td>-0.029423</td>\n",
              "      <td>0.052256</td>\n",
              "      <td>0.007814</td>\n",
              "      <td>0.023472</td>\n",
              "      <td>-0.021134</td>\n",
              "      <td>0.003324</td>\n",
              "      <td>-0.004393</td>\n",
              "      <td>0.004294</td>\n",
              "      <td>-0.002223</td>\n",
              "    </tr>\n",
              "    <tr>\n",
              "      <th>1</th>\n",
              "      <td>2</td>\n",
              "      <td>-0.009555</td>\n",
              "      <td>0.002479</td>\n",
              "      <td>0.002927</td>\n",
              "      <td>0.015774</td>\n",
              "      <td>-0.008177</td>\n",
              "      <td>-0.016036</td>\n",
              "      <td>0.026697</td>\n",
              "      <td>-0.000106</td>\n",
              "      <td>0.025788</td>\n",
              "      <td>...</td>\n",
              "      <td>-0.029430</td>\n",
              "      <td>-0.029423</td>\n",
              "      <td>0.052256</td>\n",
              "      <td>0.007814</td>\n",
              "      <td>0.023472</td>\n",
              "      <td>-0.021134</td>\n",
              "      <td>0.003324</td>\n",
              "      <td>-0.004393</td>\n",
              "      <td>0.004294</td>\n",
              "      <td>-0.002223</td>\n",
              "    </tr>\n",
              "    <tr>\n",
              "      <th>2</th>\n",
              "      <td>3</td>\n",
              "      <td>-0.356706</td>\n",
              "      <td>0.213562</td>\n",
              "      <td>0.252663</td>\n",
              "      <td>0.090735</td>\n",
              "      <td>0.328961</td>\n",
              "      <td>-0.482705</td>\n",
              "      <td>0.067300</td>\n",
              "      <td>0.384217</td>\n",
              "      <td>-0.147253</td>\n",
              "      <td>...</td>\n",
              "      <td>-0.626436</td>\n",
              "      <td>-0.102908</td>\n",
              "      <td>0.576792</td>\n",
              "      <td>-0.805986</td>\n",
              "      <td>0.310637</td>\n",
              "      <td>0.422263</td>\n",
              "      <td>0.403496</td>\n",
              "      <td>0.264240</td>\n",
              "      <td>7.057590</td>\n",
              "      <td>-0.252417</td>\n",
              "    </tr>\n",
              "    <tr>\n",
              "      <th>3</th>\n",
              "      <td>4</td>\n",
              "      <td>-0.294013</td>\n",
              "      <td>0.165262</td>\n",
              "      <td>0.257102</td>\n",
              "      <td>0.421037</td>\n",
              "      <td>0.463214</td>\n",
              "      <td>-0.769155</td>\n",
              "      <td>0.159450</td>\n",
              "      <td>0.236385</td>\n",
              "      <td>-0.183974</td>\n",
              "      <td>...</td>\n",
              "      <td>-0.435836</td>\n",
              "      <td>0.052975</td>\n",
              "      <td>0.108777</td>\n",
              "      <td>-0.599593</td>\n",
              "      <td>0.408430</td>\n",
              "      <td>0.591615</td>\n",
              "      <td>0.415667</td>\n",
              "      <td>0.334706</td>\n",
              "      <td>7.025648</td>\n",
              "      <td>-0.309093</td>\n",
              "    </tr>\n",
              "    <tr>\n",
              "      <th>4</th>\n",
              "      <td>5</td>\n",
              "      <td>-0.028657</td>\n",
              "      <td>0.157017</td>\n",
              "      <td>0.282709</td>\n",
              "      <td>-2.674227</td>\n",
              "      <td>-0.711383</td>\n",
              "      <td>2.259387</td>\n",
              "      <td>-0.162175</td>\n",
              "      <td>0.605468</td>\n",
              "      <td>0.712229</td>\n",
              "      <td>...</td>\n",
              "      <td>-1.714496</td>\n",
              "      <td>0.297421</td>\n",
              "      <td>-0.097744</td>\n",
              "      <td>0.000669</td>\n",
              "      <td>-1.639307</td>\n",
              "      <td>0.244313</td>\n",
              "      <td>0.099975</td>\n",
              "      <td>0.371806</td>\n",
              "      <td>-2.259024</td>\n",
              "      <td>-0.131085</td>\n",
              "    </tr>\n",
              "  </tbody>\n",
              "</table>\n",
              "<p>5 rows × 51 columns</p>\n",
              "</div>\n",
              "      <button class=\"colab-df-convert\" onclick=\"convertToInteractive('df-58173780-b62c-4fa8-8b45-377c89568a39')\"\n",
              "              title=\"Convert this dataframe to an interactive table.\"\n",
              "              style=\"display:none;\">\n",
              "        \n",
              "  <svg xmlns=\"http://www.w3.org/2000/svg\" height=\"24px\"viewBox=\"0 0 24 24\"\n",
              "       width=\"24px\">\n",
              "    <path d=\"M0 0h24v24H0V0z\" fill=\"none\"/>\n",
              "    <path d=\"M18.56 5.44l.94 2.06.94-2.06 2.06-.94-2.06-.94-.94-2.06-.94 2.06-2.06.94zm-11 1L8.5 8.5l.94-2.06 2.06-.94-2.06-.94L8.5 2.5l-.94 2.06-2.06.94zm10 10l.94 2.06.94-2.06 2.06-.94-2.06-.94-.94-2.06-.94 2.06-2.06.94z\"/><path d=\"M17.41 7.96l-1.37-1.37c-.4-.4-.92-.59-1.43-.59-.52 0-1.04.2-1.43.59L10.3 9.45l-7.72 7.72c-.78.78-.78 2.05 0 2.83L4 21.41c.39.39.9.59 1.41.59.51 0 1.02-.2 1.41-.59l7.78-7.78 2.81-2.81c.8-.78.8-2.07 0-2.86zM5.41 20L4 18.59l7.72-7.72 1.47 1.35L5.41 20z\"/>\n",
              "  </svg>\n",
              "      </button>\n",
              "      \n",
              "  <style>\n",
              "    .colab-df-container {\n",
              "      display:flex;\n",
              "      flex-wrap:wrap;\n",
              "      gap: 12px;\n",
              "    }\n",
              "\n",
              "    .colab-df-convert {\n",
              "      background-color: #E8F0FE;\n",
              "      border: none;\n",
              "      border-radius: 50%;\n",
              "      cursor: pointer;\n",
              "      display: none;\n",
              "      fill: #1967D2;\n",
              "      height: 32px;\n",
              "      padding: 0 0 0 0;\n",
              "      width: 32px;\n",
              "    }\n",
              "\n",
              "    .colab-df-convert:hover {\n",
              "      background-color: #E2EBFA;\n",
              "      box-shadow: 0px 1px 2px rgba(60, 64, 67, 0.3), 0px 1px 3px 1px rgba(60, 64, 67, 0.15);\n",
              "      fill: #174EA6;\n",
              "    }\n",
              "\n",
              "    [theme=dark] .colab-df-convert {\n",
              "      background-color: #3B4455;\n",
              "      fill: #D2E3FC;\n",
              "    }\n",
              "\n",
              "    [theme=dark] .colab-df-convert:hover {\n",
              "      background-color: #434B5C;\n",
              "      box-shadow: 0px 1px 3px 1px rgba(0, 0, 0, 0.15);\n",
              "      filter: drop-shadow(0px 1px 2px rgba(0, 0, 0, 0.3));\n",
              "      fill: #FFFFFF;\n",
              "    }\n",
              "  </style>\n",
              "\n",
              "      <script>\n",
              "        const buttonEl =\n",
              "          document.querySelector('#df-58173780-b62c-4fa8-8b45-377c89568a39 button.colab-df-convert');\n",
              "        buttonEl.style.display =\n",
              "          google.colab.kernel.accessAllowed ? 'block' : 'none';\n",
              "\n",
              "        async function convertToInteractive(key) {\n",
              "          const element = document.querySelector('#df-58173780-b62c-4fa8-8b45-377c89568a39');\n",
              "          const dataTable =\n",
              "            await google.colab.kernel.invokeFunction('convertToInteractive',\n",
              "                                                     [key], {});\n",
              "          if (!dataTable) return;\n",
              "\n",
              "          const docLinkHtml = 'Like what you see? Visit the ' +\n",
              "            '<a target=\"_blank\" href=https://colab.research.google.com/notebooks/data_table.ipynb>data table notebook</a>'\n",
              "            + ' to learn more about interactive tables.';\n",
              "          element.innerHTML = '';\n",
              "          dataTable['output_type'] = 'display_data';\n",
              "          await google.colab.output.renderOutput(dataTable, element);\n",
              "          const docLink = document.createElement('div');\n",
              "          docLink.innerHTML = docLinkHtml;\n",
              "          element.appendChild(docLink);\n",
              "        }\n",
              "      </script>\n",
              "    </div>\n",
              "  </div>\n",
              "  "
            ]
          },
          "metadata": {},
          "execution_count": 6
        }
      ]
    },
    {
      "cell_type": "code",
      "source": [
        "title_train.head()"
      ],
      "metadata": {
        "colab": {
          "base_uri": "https://localhost:8080/",
          "height": 299
        },
        "id": "KoOlxK-l4Ygo",
        "outputId": "8f9f3ec9-0caa-40c1-9d24-7633c2cf0110"
      },
      "execution_count": null,
      "outputs": [
        {
          "output_type": "execute_result",
          "data": {
            "text/plain": [
              "   comp_id   title_1   title_2   title_3   title_4   title_5   title_6  \\\n",
              "0        1 -0.977637 -0.543310  0.079403  0.205560 -1.497104  0.230466   \n",
              "1        2  0.041873  0.644655  0.140869 -0.664714 -0.062992  0.240086   \n",
              "2        3 -0.905595  0.097928  0.111981 -0.064753 -1.566516  0.140807   \n",
              "3        4  0.069220  0.411544  0.177700 -0.739998 -0.932620 -0.717982   \n",
              "4        5  0.503560 -0.210970 -0.085412  0.549240 -0.019521 -0.255597   \n",
              "\n",
              "    title_7   title_8   title_9  ...  title_41  title_42  title_43  title_44  \\\n",
              "0  0.566112 -0.662264  0.130342  ...  0.059434 -0.272340 -0.030180 -0.109040   \n",
              "1 -1.017593  1.019706  0.340133  ...  0.242961 -0.404538  0.335224 -0.158068   \n",
              "2 -0.946588 -0.342442  0.031226  ...  0.414191 -0.457968  0.157185 -0.116985   \n",
              "3 -0.406487 -0.267096  0.114066  ...  0.211731 -0.812590  0.258014 -0.180143   \n",
              "4  0.841144  0.250485  0.224235  ... -0.517912  0.543584  0.492052 -0.204867   \n",
              "\n",
              "   title_45  title_46  title_47  title_48  title_49  title_50  \n",
              "0 -0.033425  0.728739  0.142030  0.397541  1.270722 -0.816523  \n",
              "1 -0.178225  0.351125  0.959121  0.673848 -0.530106  0.133466  \n",
              "2  0.404937 -0.220503  0.443171  0.643445  0.357957  0.525154  \n",
              "3 -0.564691 -0.515378  0.613686  0.817547  0.325042  0.254415  \n",
              "4 -0.011538 -0.328607 -0.150055 -0.992373 -0.266003 -0.037134  \n",
              "\n",
              "[5 rows x 51 columns]"
            ],
            "text/html": [
              "\n",
              "  <div id=\"df-8c6a39fb-2928-4f0b-afb8-baa6bf6d234d\">\n",
              "    <div class=\"colab-df-container\">\n",
              "      <div>\n",
              "<style scoped>\n",
              "    .dataframe tbody tr th:only-of-type {\n",
              "        vertical-align: middle;\n",
              "    }\n",
              "\n",
              "    .dataframe tbody tr th {\n",
              "        vertical-align: top;\n",
              "    }\n",
              "\n",
              "    .dataframe thead th {\n",
              "        text-align: right;\n",
              "    }\n",
              "</style>\n",
              "<table border=\"1\" class=\"dataframe\">\n",
              "  <thead>\n",
              "    <tr style=\"text-align: right;\">\n",
              "      <th></th>\n",
              "      <th>comp_id</th>\n",
              "      <th>title_1</th>\n",
              "      <th>title_2</th>\n",
              "      <th>title_3</th>\n",
              "      <th>title_4</th>\n",
              "      <th>title_5</th>\n",
              "      <th>title_6</th>\n",
              "      <th>title_7</th>\n",
              "      <th>title_8</th>\n",
              "      <th>title_9</th>\n",
              "      <th>...</th>\n",
              "      <th>title_41</th>\n",
              "      <th>title_42</th>\n",
              "      <th>title_43</th>\n",
              "      <th>title_44</th>\n",
              "      <th>title_45</th>\n",
              "      <th>title_46</th>\n",
              "      <th>title_47</th>\n",
              "      <th>title_48</th>\n",
              "      <th>title_49</th>\n",
              "      <th>title_50</th>\n",
              "    </tr>\n",
              "  </thead>\n",
              "  <tbody>\n",
              "    <tr>\n",
              "      <th>0</th>\n",
              "      <td>1</td>\n",
              "      <td>-0.977637</td>\n",
              "      <td>-0.543310</td>\n",
              "      <td>0.079403</td>\n",
              "      <td>0.205560</td>\n",
              "      <td>-1.497104</td>\n",
              "      <td>0.230466</td>\n",
              "      <td>0.566112</td>\n",
              "      <td>-0.662264</td>\n",
              "      <td>0.130342</td>\n",
              "      <td>...</td>\n",
              "      <td>0.059434</td>\n",
              "      <td>-0.272340</td>\n",
              "      <td>-0.030180</td>\n",
              "      <td>-0.109040</td>\n",
              "      <td>-0.033425</td>\n",
              "      <td>0.728739</td>\n",
              "      <td>0.142030</td>\n",
              "      <td>0.397541</td>\n",
              "      <td>1.270722</td>\n",
              "      <td>-0.816523</td>\n",
              "    </tr>\n",
              "    <tr>\n",
              "      <th>1</th>\n",
              "      <td>2</td>\n",
              "      <td>0.041873</td>\n",
              "      <td>0.644655</td>\n",
              "      <td>0.140869</td>\n",
              "      <td>-0.664714</td>\n",
              "      <td>-0.062992</td>\n",
              "      <td>0.240086</td>\n",
              "      <td>-1.017593</td>\n",
              "      <td>1.019706</td>\n",
              "      <td>0.340133</td>\n",
              "      <td>...</td>\n",
              "      <td>0.242961</td>\n",
              "      <td>-0.404538</td>\n",
              "      <td>0.335224</td>\n",
              "      <td>-0.158068</td>\n",
              "      <td>-0.178225</td>\n",
              "      <td>0.351125</td>\n",
              "      <td>0.959121</td>\n",
              "      <td>0.673848</td>\n",
              "      <td>-0.530106</td>\n",
              "      <td>0.133466</td>\n",
              "    </tr>\n",
              "    <tr>\n",
              "      <th>2</th>\n",
              "      <td>3</td>\n",
              "      <td>-0.905595</td>\n",
              "      <td>0.097928</td>\n",
              "      <td>0.111981</td>\n",
              "      <td>-0.064753</td>\n",
              "      <td>-1.566516</td>\n",
              "      <td>0.140807</td>\n",
              "      <td>-0.946588</td>\n",
              "      <td>-0.342442</td>\n",
              "      <td>0.031226</td>\n",
              "      <td>...</td>\n",
              "      <td>0.414191</td>\n",
              "      <td>-0.457968</td>\n",
              "      <td>0.157185</td>\n",
              "      <td>-0.116985</td>\n",
              "      <td>0.404937</td>\n",
              "      <td>-0.220503</td>\n",
              "      <td>0.443171</td>\n",
              "      <td>0.643445</td>\n",
              "      <td>0.357957</td>\n",
              "      <td>0.525154</td>\n",
              "    </tr>\n",
              "    <tr>\n",
              "      <th>3</th>\n",
              "      <td>4</td>\n",
              "      <td>0.069220</td>\n",
              "      <td>0.411544</td>\n",
              "      <td>0.177700</td>\n",
              "      <td>-0.739998</td>\n",
              "      <td>-0.932620</td>\n",
              "      <td>-0.717982</td>\n",
              "      <td>-0.406487</td>\n",
              "      <td>-0.267096</td>\n",
              "      <td>0.114066</td>\n",
              "      <td>...</td>\n",
              "      <td>0.211731</td>\n",
              "      <td>-0.812590</td>\n",
              "      <td>0.258014</td>\n",
              "      <td>-0.180143</td>\n",
              "      <td>-0.564691</td>\n",
              "      <td>-0.515378</td>\n",
              "      <td>0.613686</td>\n",
              "      <td>0.817547</td>\n",
              "      <td>0.325042</td>\n",
              "      <td>0.254415</td>\n",
              "    </tr>\n",
              "    <tr>\n",
              "      <th>4</th>\n",
              "      <td>5</td>\n",
              "      <td>0.503560</td>\n",
              "      <td>-0.210970</td>\n",
              "      <td>-0.085412</td>\n",
              "      <td>0.549240</td>\n",
              "      <td>-0.019521</td>\n",
              "      <td>-0.255597</td>\n",
              "      <td>0.841144</td>\n",
              "      <td>0.250485</td>\n",
              "      <td>0.224235</td>\n",
              "      <td>...</td>\n",
              "      <td>-0.517912</td>\n",
              "      <td>0.543584</td>\n",
              "      <td>0.492052</td>\n",
              "      <td>-0.204867</td>\n",
              "      <td>-0.011538</td>\n",
              "      <td>-0.328607</td>\n",
              "      <td>-0.150055</td>\n",
              "      <td>-0.992373</td>\n",
              "      <td>-0.266003</td>\n",
              "      <td>-0.037134</td>\n",
              "    </tr>\n",
              "  </tbody>\n",
              "</table>\n",
              "<p>5 rows × 51 columns</p>\n",
              "</div>\n",
              "      <button class=\"colab-df-convert\" onclick=\"convertToInteractive('df-8c6a39fb-2928-4f0b-afb8-baa6bf6d234d')\"\n",
              "              title=\"Convert this dataframe to an interactive table.\"\n",
              "              style=\"display:none;\">\n",
              "        \n",
              "  <svg xmlns=\"http://www.w3.org/2000/svg\" height=\"24px\"viewBox=\"0 0 24 24\"\n",
              "       width=\"24px\">\n",
              "    <path d=\"M0 0h24v24H0V0z\" fill=\"none\"/>\n",
              "    <path d=\"M18.56 5.44l.94 2.06.94-2.06 2.06-.94-2.06-.94-.94-2.06-.94 2.06-2.06.94zm-11 1L8.5 8.5l.94-2.06 2.06-.94-2.06-.94L8.5 2.5l-.94 2.06-2.06.94zm10 10l.94 2.06.94-2.06 2.06-.94-2.06-.94-.94-2.06-.94 2.06-2.06.94z\"/><path d=\"M17.41 7.96l-1.37-1.37c-.4-.4-.92-.59-1.43-.59-.52 0-1.04.2-1.43.59L10.3 9.45l-7.72 7.72c-.78.78-.78 2.05 0 2.83L4 21.41c.39.39.9.59 1.41.59.51 0 1.02-.2 1.41-.59l7.78-7.78 2.81-2.81c.8-.78.8-2.07 0-2.86zM5.41 20L4 18.59l7.72-7.72 1.47 1.35L5.41 20z\"/>\n",
              "  </svg>\n",
              "      </button>\n",
              "      \n",
              "  <style>\n",
              "    .colab-df-container {\n",
              "      display:flex;\n",
              "      flex-wrap:wrap;\n",
              "      gap: 12px;\n",
              "    }\n",
              "\n",
              "    .colab-df-convert {\n",
              "      background-color: #E8F0FE;\n",
              "      border: none;\n",
              "      border-radius: 50%;\n",
              "      cursor: pointer;\n",
              "      display: none;\n",
              "      fill: #1967D2;\n",
              "      height: 32px;\n",
              "      padding: 0 0 0 0;\n",
              "      width: 32px;\n",
              "    }\n",
              "\n",
              "    .colab-df-convert:hover {\n",
              "      background-color: #E2EBFA;\n",
              "      box-shadow: 0px 1px 2px rgba(60, 64, 67, 0.3), 0px 1px 3px 1px rgba(60, 64, 67, 0.15);\n",
              "      fill: #174EA6;\n",
              "    }\n",
              "\n",
              "    [theme=dark] .colab-df-convert {\n",
              "      background-color: #3B4455;\n",
              "      fill: #D2E3FC;\n",
              "    }\n",
              "\n",
              "    [theme=dark] .colab-df-convert:hover {\n",
              "      background-color: #434B5C;\n",
              "      box-shadow: 0px 1px 3px 1px rgba(0, 0, 0, 0.15);\n",
              "      filter: drop-shadow(0px 1px 2px rgba(0, 0, 0, 0.3));\n",
              "      fill: #FFFFFF;\n",
              "    }\n",
              "  </style>\n",
              "\n",
              "      <script>\n",
              "        const buttonEl =\n",
              "          document.querySelector('#df-8c6a39fb-2928-4f0b-afb8-baa6bf6d234d button.colab-df-convert');\n",
              "        buttonEl.style.display =\n",
              "          google.colab.kernel.accessAllowed ? 'block' : 'none';\n",
              "\n",
              "        async function convertToInteractive(key) {\n",
              "          const element = document.querySelector('#df-8c6a39fb-2928-4f0b-afb8-baa6bf6d234d');\n",
              "          const dataTable =\n",
              "            await google.colab.kernel.invokeFunction('convertToInteractive',\n",
              "                                                     [key], {});\n",
              "          if (!dataTable) return;\n",
              "\n",
              "          const docLinkHtml = 'Like what you see? Visit the ' +\n",
              "            '<a target=\"_blank\" href=https://colab.research.google.com/notebooks/data_table.ipynb>data table notebook</a>'\n",
              "            + ' to learn more about interactive tables.';\n",
              "          element.innerHTML = '';\n",
              "          dataTable['output_type'] = 'display_data';\n",
              "          await google.colab.output.renderOutput(dataTable, element);\n",
              "          const docLink = document.createElement('div');\n",
              "          docLink.innerHTML = docLinkHtml;\n",
              "          element.appendChild(docLink);\n",
              "        }\n",
              "      </script>\n",
              "    </div>\n",
              "  </div>\n",
              "  "
            ]
          },
          "metadata": {},
          "execution_count": 7
        }
      ]
    },
    {
      "cell_type": "markdown",
      "source": [
        "check for missing values"
      ],
      "metadata": {
        "id": "lxG4CAgy4lCc"
      }
    },
    {
      "cell_type": "code",
      "source": [
        "meta_train.isnull().sum()"
      ],
      "metadata": {
        "colab": {
          "base_uri": "https://localhost:8080/"
        },
        "id": "_Z02Gydx4kT_",
        "outputId": "abda4799-de57-4337-c565-21cd529280d0"
      },
      "execution_count": null,
      "outputs": [
        {
          "output_type": "execute_result",
          "data": {
            "text/plain": [
              "comp_id           0\n",
              "ad_blocked        0\n",
              "embed             0\n",
              "ratio             0\n",
              "duration          0\n",
              "language          0\n",
              "partner           0\n",
              "partner_active    0\n",
              "n_likes           0\n",
              "views             0\n",
              "n_tags            0\n",
              "n_formats         0\n",
              "dayofweek         0\n",
              "hour              0\n",
              "dtype: int64"
            ]
          },
          "metadata": {},
          "execution_count": 8
        }
      ]
    },
    {
      "cell_type": "markdown",
      "source": [
        " Let’s look at the distribution of our hour column, which represents when the video was uploaded to the hosting platform."
      ],
      "metadata": {
        "id": "4MjNcvPqElZP"
      }
    },
    {
      "cell_type": "code",
      "source": [
        "meta_train['hour'].hist(bins=24)"
      ],
      "metadata": {
        "colab": {
          "base_uri": "https://localhost:8080/",
          "height": 283
        },
        "id": "x6vYZE5fEj8m",
        "outputId": "015b2da9-dbed-4b88-ccb1-f50281315c3a"
      },
      "execution_count": null,
      "outputs": [
        {
          "output_type": "execute_result",
          "data": {
            "text/plain": [
              "<matplotlib.axes._subplots.AxesSubplot at 0x7fa17c060590>"
            ]
          },
          "metadata": {},
          "execution_count": 9
        },
        {
          "output_type": "display_data",
          "data": {
            "text/plain": [
              "<Figure size 432x288 with 1 Axes>"
            ],
            "image/png": "[encoded data removed]"
          },
          "metadata": {
            "needs_background": "light"
          }
        }
      ]
    },
    {
      "cell_type": "markdown",
      "source": [
        "Next, let’s look at the dayoftheweek distribution, which will tell us which day of the week the video was uploaded."
      ],
      "metadata": {
        "id": "EAj2t2U9E-2_"
      }
    },
    {
      "cell_type": "code",
      "source": [
        "meta_train['dayofweek'].hist(bins=7)\n"
      ],
      "metadata": {
        "colab": {
          "base_uri": "https://localhost:8080/",
          "height": 283
        },
        "id": "rKBHe5zmFB86",
        "outputId": "7a059b4f-ea4a-4e5c-ec41-0abe1f0eee6b"
      },
      "execution_count": null,
      "outputs": [
        {
          "output_type": "execute_result",
          "data": {
            "text/plain": [
              "<matplotlib.axes._subplots.AxesSubplot at 0x7fa17c25dd50>"
            ]
          },
          "metadata": {},
          "execution_count": 10
        },
        {
          "output_type": "display_data",
          "data": {
            "text/plain": [
              "<Figure size 432x288 with 1 Axes>"
            ],
            "image/png": "[encoded data removed]"
          },
          "metadata": {
            "needs_background": "light"
          }
        }
      ]
    },
    {
      "cell_type": "markdown",
      "source": [
        "we’ll look at the distribution of our views column."
      ],
      "metadata": {
        "id": "GKYmunDRHkHZ"
      }
    },
    {
      "cell_type": "code",
      "source": [
        "meta_train['views'].hist(bins=20)"
      ],
      "metadata": {
        "colab": {
          "base_uri": "https://localhost:8080/",
          "height": 286
        },
        "id": "DT2jQwRSHj3J",
        "outputId": "62c0955d-4de3-46ab-aafe-3ab59b7b249a"
      },
      "execution_count": null,
      "outputs": [
        {
          "output_type": "execute_result",
          "data": {
            "text/plain": [
              "<matplotlib.axes._subplots.AxesSubplot at 0x7fa17c8c8e90>"
            ]
          },
          "metadata": {},
          "execution_count": 11
        },
        {
          "output_type": "display_data",
          "data": {
            "text/plain": [
              "<Figure size 432x288 with 1 Axes>"
            ],
            "image/png": "[encoded data removed]"
          },
          "metadata": {
            "needs_background": "light"
          }
        }
      ]
    },
    {
      "cell_type": "markdown",
      "source": [
        "Because we have outliers at the upper end of this view data, this plot isn’t very useful. The solution here is to apply a log transformation to our data, like so:"
      ],
      "metadata": {
        "id": "IwtU2i3HH6ov"
      }
    },
    {
      "cell_type": "code",
      "source": [
        "np.log10(meta_train['views']).hist(bins=20)"
      ],
      "metadata": {
        "colab": {
          "base_uri": "https://localhost:8080/",
          "height": 283
        },
        "id": "zfmNi955H7rm",
        "outputId": "05993c7e-fdb5-40a1-ee16-44822206ebef"
      },
      "execution_count": null,
      "outputs": [
        {
          "output_type": "execute_result",
          "data": {
            "text/plain": [
              "<matplotlib.axes._subplots.AxesSubplot at 0x7fa17c42fa50>"
            ]
          },
          "metadata": {},
          "execution_count": 12
        },
        {
          "output_type": "display_data",
          "data": {
            "text/plain": [
              "<Figure size 432x288 with 1 Axes>"
            ],
            "image/png": "[encoded data removed]"
          },
          "metadata": {
            "needs_background": "light"
          }
        }
      ]
    },
    {
      "cell_type": "markdown",
      "source": [
        "Now we’ll look at the distribution of our duration column."
      ],
      "metadata": {
        "id": "rcxHLtICLw89"
      }
    },
    {
      "cell_type": "code",
      "source": [
        "meta_train['duration'].hist(bins=20)"
      ],
      "metadata": {
        "colab": {
          "base_uri": "https://localhost:8080/",
          "height": 283
        },
        "id": "EP8AbS1cL0QY",
        "outputId": "af2265bb-1d59-4f01-9c48-449bbc84bad5"
      },
      "execution_count": null,
      "outputs": [
        {
          "output_type": "execute_result",
          "data": {
            "text/plain": [
              "<matplotlib.axes._subplots.AxesSubplot at 0x7fa17c773dd0>"
            ]
          },
          "metadata": {},
          "execution_count": 13
        },
        {
          "output_type": "display_data",
          "data": {
            "text/plain": [
              "<Figure size 432x288 with 1 Axes>"
            ],
            "image/png": "[encoded data removed]"
          },
          "metadata": {
            "needs_background": "light"
          }
        }
      ]
    },
    {
      "cell_type": "code",
      "source": [
        "duration_log = np.log10(meta_train['duration']).replace(-np.inf, 0)\n",
        "duration_log.hist(bins=20)"
      ],
      "metadata": {
        "colab": {
          "base_uri": "https://localhost:8080/",
          "height": 340
        },
        "id": "sJzvlLKEMBA2",
        "outputId": "527f416b-2995-4a50-cc50-509bc30b00ff"
      },
      "execution_count": null,
      "outputs": [
        {
          "output_type": "stream",
          "name": "stderr",
          "text": [
            "/usr/local/lib/python3.7/dist-packages/pandas/core/arraylike.py:364: RuntimeWarning: divide by zero encountered in log10\n",
            "  result = getattr(ufunc, method)(*inputs, **kwargs)\n"
          ]
        },
        {
          "output_type": "execute_result",
          "data": {
            "text/plain": [
              "<matplotlib.axes._subplots.AxesSubplot at 0x7fa17c839890>"
            ]
          },
          "metadata": {},
          "execution_count": 14
        },
        {
          "output_type": "display_data",
          "data": {
            "text/plain": [
              "<Figure size 432x288 with 1 Axes>"
            ],
            "image/png": "[encoded data removed]"
          },
          "metadata": {
            "needs_background": "light"
          }
        }
      ]
    },
    {
      "cell_type": "code",
      "source": [
        "meta_train['ad_blocked'].value_counts()"
      ],
      "metadata": {
        "colab": {
          "base_uri": "https://localhost:8080/"
        },
        "id": "dIOUk8klMPzv",
        "outputId": "018241e8-004c-48c7-c45f-9a26fc9dd1c1"
      },
      "execution_count": null,
      "outputs": [
        {
          "output_type": "execute_result",
          "data": {
            "text/plain": [
              "False    2980\n",
              "True       20\n",
              "Name: ad_blocked, dtype: int64"
            ]
          },
          "metadata": {},
          "execution_count": 15
        }
      ]
    },
    {
      "cell_type": "code",
      "source": [
        "meta_train['embed'].value_counts()"
      ],
      "metadata": {
        "colab": {
          "base_uri": "https://localhost:8080/"
        },
        "id": "mv6gW9NUMUnE",
        "outputId": "f12cd7d4-f55a-4a36-ae4a-aaac1ac7e892"
      },
      "execution_count": null,
      "outputs": [
        {
          "output_type": "execute_result",
          "data": {
            "text/plain": [
              "True     2982\n",
              "False      18\n",
              "Name: embed, dtype: int64"
            ]
          },
          "metadata": {},
          "execution_count": 16
        }
      ]
    },
    {
      "cell_type": "code",
      "source": [
        "pd.crosstab(meta_train.partner, meta_train.partner_active)"
      ],
      "metadata": {
        "colab": {
          "base_uri": "https://localhost:8080/",
          "height": 143
        },
        "id": "kBqhWAToMZgT",
        "outputId": "28fe54d1-624f-4d92-c430-ef32f1d35480"
      },
      "execution_count": null,
      "outputs": [
        {
          "output_type": "execute_result",
          "data": {
            "text/plain": [
              "partner_active  False  True\n",
              "partner                    \n",
              "False            1194     0\n",
              "True             1123   683"
            ],
            "text/html": [
              "\n",
              "  <div id=\"df-8275d7e0-7ad1-4040-bd99-10b539010579\">\n",
              "    <div class=\"colab-df-container\">\n",
              "      <div>\n",
              "<style scoped>\n",
              "    .dataframe tbody tr th:only-of-type {\n",
              "        vertical-align: middle;\n",
              "    }\n",
              "\n",
              "    .dataframe tbody tr th {\n",
              "        vertical-align: top;\n",
              "    }\n",
              "\n",
              "    .dataframe thead th {\n",
              "        text-align: right;\n",
              "    }\n",
              "</style>\n",
              "<table border=\"1\" class=\"dataframe\">\n",
              "  <thead>\n",
              "    <tr style=\"text-align: right;\">\n",
              "      <th>partner_active</th>\n",
              "      <th>False</th>\n",
              "      <th>True</th>\n",
              "    </tr>\n",
              "    <tr>\n",
              "      <th>partner</th>\n",
              "      <th></th>\n",
              "      <th></th>\n",
              "    </tr>\n",
              "  </thead>\n",
              "  <tbody>\n",
              "    <tr>\n",
              "      <th>False</th>\n",
              "      <td>1194</td>\n",
              "      <td>0</td>\n",
              "    </tr>\n",
              "    <tr>\n",
              "      <th>True</th>\n",
              "      <td>1123</td>\n",
              "      <td>683</td>\n",
              "    </tr>\n",
              "  </tbody>\n",
              "</table>\n",
              "</div>\n",
              "      <button class=\"colab-df-convert\" onclick=\"convertToInteractive('df-8275d7e0-7ad1-4040-bd99-10b539010579')\"\n",
              "              title=\"Convert this dataframe to an interactive table.\"\n",
              "              style=\"display:none;\">\n",
              "        \n",
              "  <svg xmlns=\"http://www.w3.org/2000/svg\" height=\"24px\"viewBox=\"0 0 24 24\"\n",
              "       width=\"24px\">\n",
              "    <path d=\"M0 0h24v24H0V0z\" fill=\"none\"/>\n",
              "    <path d=\"M18.56 5.44l.94 2.06.94-2.06 2.06-.94-2.06-.94-.94-2.06-.94 2.06-2.06.94zm-11 1L8.5 8.5l.94-2.06 2.06-.94-2.06-.94L8.5 2.5l-.94 2.06-2.06.94zm10 10l.94 2.06.94-2.06 2.06-.94-2.06-.94-.94-2.06-.94 2.06-2.06.94z\"/><path d=\"M17.41 7.96l-1.37-1.37c-.4-.4-.92-.59-1.43-.59-.52 0-1.04.2-1.43.59L10.3 9.45l-7.72 7.72c-.78.78-.78 2.05 0 2.83L4 21.41c.39.39.9.59 1.41.59.51 0 1.02-.2 1.41-.59l7.78-7.78 2.81-2.81c.8-.78.8-2.07 0-2.86zM5.41 20L4 18.59l7.72-7.72 1.47 1.35L5.41 20z\"/>\n",
              "  </svg>\n",
              "      </button>\n",
              "      \n",
              "  <style>\n",
              "    .colab-df-container {\n",
              "      display:flex;\n",
              "      flex-wrap:wrap;\n",
              "      gap: 12px;\n",
              "    }\n",
              "\n",
              "    .colab-df-convert {\n",
              "      background-color: #E8F0FE;\n",
              "      border: none;\n",
              "      border-radius: 50%;\n",
              "      cursor: pointer;\n",
              "      display: none;\n",
              "      fill: #1967D2;\n",
              "      height: 32px;\n",
              "      padding: 0 0 0 0;\n",
              "      width: 32px;\n",
              "    }\n",
              "\n",
              "    .colab-df-convert:hover {\n",
              "      background-color: #E2EBFA;\n",
              "      box-shadow: 0px 1px 2px rgba(60, 64, 67, 0.3), 0px 1px 3px 1px rgba(60, 64, 67, 0.15);\n",
              "      fill: #174EA6;\n",
              "    }\n",
              "\n",
              "    [theme=dark] .colab-df-convert {\n",
              "      background-color: #3B4455;\n",
              "      fill: #D2E3FC;\n",
              "    }\n",
              "\n",
              "    [theme=dark] .colab-df-convert:hover {\n",
              "      background-color: #434B5C;\n",
              "      box-shadow: 0px 1px 3px 1px rgba(0, 0, 0, 0.15);\n",
              "      filter: drop-shadow(0px 1px 2px rgba(0, 0, 0, 0.3));\n",
              "      fill: #FFFFFF;\n",
              "    }\n",
              "  </style>\n",
              "\n",
              "      <script>\n",
              "        const buttonEl =\n",
              "          document.querySelector('#df-8275d7e0-7ad1-4040-bd99-10b539010579 button.colab-df-convert');\n",
              "        buttonEl.style.display =\n",
              "          google.colab.kernel.accessAllowed ? 'block' : 'none';\n",
              "\n",
              "        async function convertToInteractive(key) {\n",
              "          const element = document.querySelector('#df-8275d7e0-7ad1-4040-bd99-10b539010579');\n",
              "          const dataTable =\n",
              "            await google.colab.kernel.invokeFunction('convertToInteractive',\n",
              "                                                     [key], {});\n",
              "          if (!dataTable) return;\n",
              "\n",
              "          const docLinkHtml = 'Like what you see? Visit the ' +\n",
              "            '<a target=\"_blank\" href=https://colab.research.google.com/notebooks/data_table.ipynb>data table notebook</a>'\n",
              "            + ' to learn more about interactive tables.';\n",
              "          element.innerHTML = '';\n",
              "          dataTable['output_type'] = 'display_data';\n",
              "          await google.colab.output.renderOutput(dataTable, element);\n",
              "          const docLink = document.createElement('div');\n",
              "          docLink.innerHTML = docLinkHtml;\n",
              "          element.appendChild(docLink);\n",
              "        }\n",
              "      </script>\n",
              "    </div>\n",
              "  </div>\n",
              "  "
            ]
          },
          "metadata": {},
          "execution_count": 17
        }
      ]
    },
    {
      "cell_type": "code",
      "source": [
        "# correlation btwn numerical variables\n",
        "cor_tbl_df = meta_train[['views', 'ratio', 'duration', 'language', 'n_likes', 'n_tags','n_formats', 'dayofweek', 'hour']]\n",
        "sort_n = cor_tbl_df.corr().sort_values('views', ascending=False).index\n",
        "cor_tbl_df.corr()[sort_n].iloc[0]"
      ],
      "metadata": {
        "colab": {
          "base_uri": "https://localhost:8080/"
        },
        "id": "G_SMk0KDMgc0",
        "outputId": "6bccf6cb-938a-4595-e626-b6ceaff9009c"
      },
      "execution_count": null,
      "outputs": [
        {
          "output_type": "execute_result",
          "data": {
            "text/plain": [
              "views        1.000000\n",
              "n_likes      0.288940\n",
              "language     0.105701\n",
              "ratio        0.102332\n",
              "n_tags       0.081795\n",
              "duration     0.073680\n",
              "n_formats    0.034488\n",
              "hour        -0.014262\n",
              "dayofweek   -0.022092\n",
              "Name: views, dtype: float64"
            ]
          },
          "metadata": {},
          "execution_count": 18
        }
      ]
    },
    {
      "cell_type": "markdown",
      "source": [
        "Use get_dummies() to convert categorical variables into dummy variables."
      ],
      "metadata": {
        "id": "MgBbzLART9pG"
      }
    },
    {
      "cell_type": "code",
      "source": [
        "embed = pd.get_dummies(meta_train.embed, prefix ='embed')\n",
        "partner = pd.get_dummies(meta_train.partner, prefix ='partner')\n",
        "partner_active = pd.get_dummies(meta_train.partner_active, prefix ='partner_a')\n",
        "language = pd.get_dummies(meta_train['language'], prefix='language')\n",
        "weekday = pd.get_dummies(meta_train['dayofweek'], prefix='day')\n",
        "weekday['day_6'] = 0\n",
        "print(embed)"
      ],
      "metadata": {
        "id": "dJqVdLcwUI7j",
        "colab": {
          "base_uri": "https://localhost:8080/"
        },
        "outputId": "d8ba153a-5085-4f20-e422-0f3154f0e644"
      },
      "execution_count": null,
      "outputs": [
        {
          "output_type": "stream",
          "name": "stdout",
          "text": [
            "      embed_False  embed_True\n",
            "0               0           1\n",
            "1               0           1\n",
            "2               0           1\n",
            "3               0           1\n",
            "4               0           1\n",
            "...           ...         ...\n",
            "2995            0           1\n",
            "2996            0           1\n",
            "2997            0           1\n",
            "2998            0           1\n",
            "2999            0           1\n",
            "\n",
            "[3000 rows x 2 columns]\n"
          ]
        }
      ]
    },
    {
      "cell_type": "code",
      "source": [
        "sin_hour = np.sin(2*np.pi*meta_train['hour']/24.0)\n",
        "sin_hour.name = 'sin_hour'\n",
        "cos_hour = np.cos(2*np.pi*meta_train['hour']/24.0)\n",
        "cos_hour.name = 'cos_hour'"
      ],
      "metadata": {
        "id": "qUcW49_0UtTK"
      },
      "execution_count": null,
      "outputs": []
    },
    {
      "cell_type": "markdown",
      "source": [
        "after transformations, we can join all 6 transformed data columns into on data farme"
      ],
      "metadata": {
        "id": "KhyCotPAU2fQ"
      }
    },
    {
      "cell_type": "code",
      "source": [
        "# Join all dataframes.\n",
        "meta_final_df = pd.concat([meta_train[['comp_id', 'views', 'ratio', 'language', 'n_likes', 'duration']].reset_index(drop=True),\n",
        "                           embed, partner, partner_active, language, weekday, sin_hour, cos_hour], axis=1)\n",
        "meta_final_df.head()\n",
        "meta_final_df.shape"
      ],
      "metadata": {
        "colab": {
          "base_uri": "https://localhost:8080/"
        },
        "id": "6WRSb2_uU0_U",
        "outputId": "45d85bb4-8574-4b02-85a7-8927db333ec6"
      },
      "execution_count": null,
      "outputs": [
        {
          "output_type": "execute_result",
          "data": {
            "text/plain": [
              "(3000, 31)"
            ]
          },
          "metadata": {},
          "execution_count": 21
        }
      ]
    },
    {
      "cell_type": "code",
      "source": [
        "# Set the target as well as dependent variables from image data.\n",
        "y = meta_train['views']\n",
        "x = image_train.loc[:, image_train.columns != 'comp_id'] #ignore comp_id variable\n",
        "\n",
        "# Run Lasso regression for feature selection.\n",
        "sel_model = SelectFromModel(LogisticRegression(C=1, penalty='l1', solver='liblinear'))\n",
        "\n",
        "# time the model fitting\n",
        "start = timeit.default_timer()\n",
        "\n",
        "# Fit the trained model on our data\n",
        "sel_model.fit(x, y)\n",
        "\n",
        "stop = timeit.default_timer()\n",
        "print('Time: ', stop - start) "
      ],
      "metadata": {
        "id": "zBxqs4K-Vhe4",
        "colab": {
          "base_uri": "https://localhost:8080/"
        },
        "outputId": "5c009abd-b53b-4c11-9d15-3507b5a0c9ff"
      },
      "execution_count": null,
      "outputs": [
        {
          "output_type": "stream",
          "name": "stdout",
          "text": [
            "Time:  1107.051212533\n"
          ]
        }
      ]
    },
    {
      "cell_type": "code",
      "source": [
        "# get index of good features\n",
        "sel_index = sel_model.get_support()\n",
        "\n",
        "# count the no of columns selected\n",
        "counter = collections.Counter(sel_model.get_support())\n",
        "counter"
      ],
      "metadata": {
        "colab": {
          "base_uri": "https://localhost:8080/"
        },
        "id": "80WFrw4idYuv",
        "outputId": "bc942fd2-f7f4-4829-f140-8cddae280a21"
      },
      "execution_count": null,
      "outputs": [
        {
          "output_type": "execute_result",
          "data": {
            "text/plain": [
              "Counter({True: 1258, False: 2742})"
            ]
          },
          "metadata": {},
          "execution_count": 23
        }
      ]
    },
    {
      "cell_type": "code",
      "source": [
        "# Reconstruct the image dataframe using the index information above.\n",
        "image_index_df = pd.DataFrame(x[x.columns[(sel_index)]])\n",
        "image_final_df = pd.concat([image_train[['comp_id']], image_index_df], axis=1)\n",
        "image_final_df.head()"
      ],
      "metadata": {
        "colab": {
          "base_uri": "https://localhost:8080/",
          "height": 299
        },
        "id": "YVfP2JFwd2V1",
        "outputId": "dfadb658-39a1-448e-a2ac-1ab557495654"
      },
      "execution_count": null,
      "outputs": [
        {
          "output_type": "execute_result",
          "data": {
            "text/plain": [
              "   comp_id   image_1   image_3   image_4  image_11  image_15  image_17  \\\n",
              "0        1  0.484456 -0.149328  0.144475  0.780332 -1.193367  0.359643   \n",
              "1        2  0.074533 -0.016286 -0.480964  0.410953  0.797866 -0.103046   \n",
              "2        3 -0.396809 -1.723037  0.666147 -0.006978 -1.849174 -0.451063   \n",
              "3        4  0.995316  0.387472 -0.684791 -0.356708  0.807046  0.111972   \n",
              "4        5 -0.611648 -0.572393  0.894287 -0.260793 -0.219198  1.063709   \n",
              "\n",
              "   image_20  image_24  image_26  ...  image_3959  image_3960  image_3962  \\\n",
              "0  0.201758  0.392215  0.049990  ...   -0.506946   -0.162883   -1.364837   \n",
              "1 -0.820352 -0.237525 -0.127445  ...    1.284343    0.019412    0.406546   \n",
              "2 -0.669081  0.824120  0.288842  ...   -0.249109   -0.389832    1.867043   \n",
              "3  0.294054  5.531464  0.550411  ...    1.032519   -0.087203   -1.364425   \n",
              "4  0.717563  1.603678 -0.398335  ...   -0.082778   -0.765341    0.282487   \n",
              "\n",
              "   image_3966  image_3968  image_3973  image_3974  image_3977  image_3984  \\\n",
              "0   -0.781976   -3.690247    1.522198   -0.606094    0.658431   -0.604360   \n",
              "1   -0.552040    0.225877    1.708743   -0.204869   -0.510086    0.410483   \n",
              "2    1.650881    2.086596   -1.253300   -0.229919   -0.377193    0.605521   \n",
              "3   -0.414214   -2.780271   -0.199446   -0.387944    1.334685    0.869679   \n",
              "4   -0.020776    2.269820    0.469091    1.325833   -0.016011    0.467325   \n",
              "\n",
              "   image_3990  \n",
              "0    0.111028  \n",
              "1   -0.102448  \n",
              "2   -0.384109  \n",
              "3    0.302376  \n",
              "4   -0.171552  \n",
              "\n",
              "[5 rows x 1259 columns]"
            ],
            "text/html": [
              "\n",
              "  <div id=\"df-33a3b21a-373b-422c-bfa4-ee086eaa78d8\">\n",
              "    <div class=\"colab-df-container\">\n",
              "      <div>\n",
              "<style scoped>\n",
              "    .dataframe tbody tr th:only-of-type {\n",
              "        vertical-align: middle;\n",
              "    }\n",
              "\n",
              "    .dataframe tbody tr th {\n",
              "        vertical-align: top;\n",
              "    }\n",
              "\n",
              "    .dataframe thead th {\n",
              "        text-align: right;\n",
              "    }\n",
              "</style>\n",
              "<table border=\"1\" class=\"dataframe\">\n",
              "  <thead>\n",
              "    <tr style=\"text-align: right;\">\n",
              "      <th></th>\n",
              "      <th>comp_id</th>\n",
              "      <th>image_1</th>\n",
              "      <th>image_3</th>\n",
              "      <th>image_4</th>\n",
              "      <th>image_11</th>\n",
              "      <th>image_15</th>\n",
              "      <th>image_17</th>\n",
              "      <th>image_20</th>\n",
              "      <th>image_24</th>\n",
              "      <th>image_26</th>\n",
              "      <th>...</th>\n",
              "      <th>image_3959</th>\n",
              "      <th>image_3960</th>\n",
              "      <th>image_3962</th>\n",
              "      <th>image_3966</th>\n",
              "      <th>image_3968</th>\n",
              "      <th>image_3973</th>\n",
              "      <th>image_3974</th>\n",
              "      <th>image_3977</th>\n",
              "      <th>image_3984</th>\n",
              "      <th>image_3990</th>\n",
              "    </tr>\n",
              "  </thead>\n",
              "  <tbody>\n",
              "    <tr>\n",
              "      <th>0</th>\n",
              "      <td>1</td>\n",
              "      <td>0.484456</td>\n",
              "      <td>-0.149328</td>\n",
              "      <td>0.144475</td>\n",
              "      <td>0.780332</td>\n",
              "      <td>-1.193367</td>\n",
              "      <td>0.359643</td>\n",
              "      <td>0.201758</td>\n",
              "      <td>0.392215</td>\n",
              "      <td>0.049990</td>\n",
              "      <td>...</td>\n",
              "      <td>-0.506946</td>\n",
              "      <td>-0.162883</td>\n",
              "      <td>-1.364837</td>\n",
              "      <td>-0.781976</td>\n",
              "      <td>-3.690247</td>\n",
              "      <td>1.522198</td>\n",
              "      <td>-0.606094</td>\n",
              "      <td>0.658431</td>\n",
              "      <td>-0.604360</td>\n",
              "      <td>0.111028</td>\n",
              "    </tr>\n",
              "    <tr>\n",
              "      <th>1</th>\n",
              "      <td>2</td>\n",
              "      <td>0.074533</td>\n",
              "      <td>-0.016286</td>\n",
              "      <td>-0.480964</td>\n",
              "      <td>0.410953</td>\n",
              "      <td>0.797866</td>\n",
              "      <td>-0.103046</td>\n",
              "      <td>-0.820352</td>\n",
              "      <td>-0.237525</td>\n",
              "      <td>-0.127445</td>\n",
              "      <td>...</td>\n",
              "      <td>1.284343</td>\n",
              "      <td>0.019412</td>\n",
              "      <td>0.406546</td>\n",
              "      <td>-0.552040</td>\n",
              "      <td>0.225877</td>\n",
              "      <td>1.708743</td>\n",
              "      <td>-0.204869</td>\n",
              "      <td>-0.510086</td>\n",
              "      <td>0.410483</td>\n",
              "      <td>-0.102448</td>\n",
              "    </tr>\n",
              "    <tr>\n",
              "      <th>2</th>\n",
              "      <td>3</td>\n",
              "      <td>-0.396809</td>\n",
              "      <td>-1.723037</td>\n",
              "      <td>0.666147</td>\n",
              "      <td>-0.006978</td>\n",
              "      <td>-1.849174</td>\n",
              "      <td>-0.451063</td>\n",
              "      <td>-0.669081</td>\n",
              "      <td>0.824120</td>\n",
              "      <td>0.288842</td>\n",
              "      <td>...</td>\n",
              "      <td>-0.249109</td>\n",
              "      <td>-0.389832</td>\n",
              "      <td>1.867043</td>\n",
              "      <td>1.650881</td>\n",
              "      <td>2.086596</td>\n",
              "      <td>-1.253300</td>\n",
              "      <td>-0.229919</td>\n",
              "      <td>-0.377193</td>\n",
              "      <td>0.605521</td>\n",
              "      <td>-0.384109</td>\n",
              "    </tr>\n",
              "    <tr>\n",
              "      <th>3</th>\n",
              "      <td>4</td>\n",
              "      <td>0.995316</td>\n",
              "      <td>0.387472</td>\n",
              "      <td>-0.684791</td>\n",
              "      <td>-0.356708</td>\n",
              "      <td>0.807046</td>\n",
              "      <td>0.111972</td>\n",
              "      <td>0.294054</td>\n",
              "      <td>5.531464</td>\n",
              "      <td>0.550411</td>\n",
              "      <td>...</td>\n",
              "      <td>1.032519</td>\n",
              "      <td>-0.087203</td>\n",
              "      <td>-1.364425</td>\n",
              "      <td>-0.414214</td>\n",
              "      <td>-2.780271</td>\n",
              "      <td>-0.199446</td>\n",
              "      <td>-0.387944</td>\n",
              "      <td>1.334685</td>\n",
              "      <td>0.869679</td>\n",
              "      <td>0.302376</td>\n",
              "    </tr>\n",
              "    <tr>\n",
              "      <th>4</th>\n",
              "      <td>5</td>\n",
              "      <td>-0.611648</td>\n",
              "      <td>-0.572393</td>\n",
              "      <td>0.894287</td>\n",
              "      <td>-0.260793</td>\n",
              "      <td>-0.219198</td>\n",
              "      <td>1.063709</td>\n",
              "      <td>0.717563</td>\n",
              "      <td>1.603678</td>\n",
              "      <td>-0.398335</td>\n",
              "      <td>...</td>\n",
              "      <td>-0.082778</td>\n",
              "      <td>-0.765341</td>\n",
              "      <td>0.282487</td>\n",
              "      <td>-0.020776</td>\n",
              "      <td>2.269820</td>\n",
              "      <td>0.469091</td>\n",
              "      <td>1.325833</td>\n",
              "      <td>-0.016011</td>\n",
              "      <td>0.467325</td>\n",
              "      <td>-0.171552</td>\n",
              "    </tr>\n",
              "  </tbody>\n",
              "</table>\n",
              "<p>5 rows × 1259 columns</p>\n",
              "</div>\n",
              "      <button class=\"colab-df-convert\" onclick=\"convertToInteractive('df-33a3b21a-373b-422c-bfa4-ee086eaa78d8')\"\n",
              "              title=\"Convert this dataframe to an interactive table.\"\n",
              "              style=\"display:none;\">\n",
              "        \n",
              "  <svg xmlns=\"http://www.w3.org/2000/svg\" height=\"24px\"viewBox=\"0 0 24 24\"\n",
              "       width=\"24px\">\n",
              "    <path d=\"M0 0h24v24H0V0z\" fill=\"none\"/>\n",
              "    <path d=\"M18.56 5.44l.94 2.06.94-2.06 2.06-.94-2.06-.94-.94-2.06-.94 2.06-2.06.94zm-11 1L8.5 8.5l.94-2.06 2.06-.94-2.06-.94L8.5 2.5l-.94 2.06-2.06.94zm10 10l.94 2.06.94-2.06 2.06-.94-2.06-.94-.94-2.06-.94 2.06-2.06.94z\"/><path d=\"M17.41 7.96l-1.37-1.37c-.4-.4-.92-.59-1.43-.59-.52 0-1.04.2-1.43.59L10.3 9.45l-7.72 7.72c-.78.78-.78 2.05 0 2.83L4 21.41c.39.39.9.59 1.41.59.51 0 1.02-.2 1.41-.59l7.78-7.78 2.81-2.81c.8-.78.8-2.07 0-2.86zM5.41 20L4 18.59l7.72-7.72 1.47 1.35L5.41 20z\"/>\n",
              "  </svg>\n",
              "      </button>\n",
              "      \n",
              "  <style>\n",
              "    .colab-df-container {\n",
              "      display:flex;\n",
              "      flex-wrap:wrap;\n",
              "      gap: 12px;\n",
              "    }\n",
              "\n",
              "    .colab-df-convert {\n",
              "      background-color: #E8F0FE;\n",
              "      border: none;\n",
              "      border-radius: 50%;\n",
              "      cursor: pointer;\n",
              "      display: none;\n",
              "      fill: #1967D2;\n",
              "      height: 32px;\n",
              "      padding: 0 0 0 0;\n",
              "      width: 32px;\n",
              "    }\n",
              "\n",
              "    .colab-df-convert:hover {\n",
              "      background-color: #E2EBFA;\n",
              "      box-shadow: 0px 1px 2px rgba(60, 64, 67, 0.3), 0px 1px 3px 1px rgba(60, 64, 67, 0.15);\n",
              "      fill: #174EA6;\n",
              "    }\n",
              "\n",
              "    [theme=dark] .colab-df-convert {\n",
              "      background-color: #3B4455;\n",
              "      fill: #D2E3FC;\n",
              "    }\n",
              "\n",
              "    [theme=dark] .colab-df-convert:hover {\n",
              "      background-color: #434B5C;\n",
              "      box-shadow: 0px 1px 3px 1px rgba(0, 0, 0, 0.15);\n",
              "      filter: drop-shadow(0px 1px 2px rgba(0, 0, 0, 0.3));\n",
              "      fill: #FFFFFF;\n",
              "    }\n",
              "  </style>\n",
              "\n",
              "      <script>\n",
              "        const buttonEl =\n",
              "          document.querySelector('#df-33a3b21a-373b-422c-bfa4-ee086eaa78d8 button.colab-df-convert');\n",
              "        buttonEl.style.display =\n",
              "          google.colab.kernel.accessAllowed ? 'block' : 'none';\n",
              "\n",
              "        async function convertToInteractive(key) {\n",
              "          const element = document.querySelector('#df-33a3b21a-373b-422c-bfa4-ee086eaa78d8');\n",
              "          const dataTable =\n",
              "            await google.colab.kernel.invokeFunction('convertToInteractive',\n",
              "                                                     [key], {});\n",
              "          if (!dataTable) return;\n",
              "\n",
              "          const docLinkHtml = 'Like what you see? Visit the ' +\n",
              "            '<a target=\"_blank\" href=https://colab.research.google.com/notebooks/data_table.ipynb>data table notebook</a>'\n",
              "            + ' to learn more about interactive tables.';\n",
              "          element.innerHTML = '';\n",
              "          dataTable['output_type'] = 'display_data';\n",
              "          await google.colab.output.renderOutput(dataTable, element);\n",
              "          const docLink = document.createElement('div');\n",
              "          docLink.innerHTML = docLinkHtml;\n",
              "          element.appendChild(docLink);\n",
              "        }\n",
              "      </script>\n",
              "    </div>\n",
              "  </div>\n",
              "  "
            ]
          },
          "metadata": {},
          "execution_count": 24
        }
      ]
    },
    {
      "cell_type": "markdown",
      "source": [
        "Merge everything into one data frame"
      ],
      "metadata": {
        "id": "stExH9O4eszY"
      }
    },
    {
      "cell_type": "code",
      "source": [
        "# Merge all tables based on the column 'comp_id'\n",
        "final_df = pd.merge(pd.merge(meta_final_df, image_final_df, on = 'comp_id'), \n",
        "                    pd.merge(desc_train, title_train, on = 'comp_id'), on = 'comp_id')\n",
        "#final_df = pd.read_csv('final_train_df.csv')\n",
        "\n",
        "final_df.shape # (3000, 1389)"
      ],
      "metadata": {
        "colab": {
          "base_uri": "https://localhost:8080/"
        },
        "id": "fbLXBIS-eu3V",
        "outputId": "04be5b86-159a-41e0-e979-1cadda847abc"
      },
      "execution_count": null,
      "outputs": [
        {
          "output_type": "execute_result",
          "data": {
            "text/plain": [
              "(3000, 1389)"
            ]
          },
          "metadata": {},
          "execution_count": 25
        }
      ]
    },
    {
      "cell_type": "code",
      "source": [
        "# Test set\n",
        "p_embed = pd.get_dummies(meta_test.embed, prefix ='embed')\n",
        "p_partner = pd.get_dummies(meta_test.partner, prefix ='partner')\n",
        "p_partner_active = pd.get_dummies(meta_test.partner_active, prefix ='partner_a')\n",
        "p_language = pd.get_dummies(meta_test['language'], prefix='language')\n",
        "p_language['language_6'] = 0\n",
        "p_weekday = pd.get_dummies(meta_test['dayofweek'], prefix='day')\n",
        "p_weekday['day_3'] = 0\n",
        "p_weekday['day_4'] = 0\n",
        "p_weekday['day_5'] = 0\n",
        "\n",
        "## Cyclical encoding \n",
        "p_sin_hour = np.sin(2*np.pi*meta_test['hour']/24.0)\n",
        "p_sin_hour.name = 'sin_hour'\n",
        "p_cos_hour = np.cos(2*np.pi*meta_test['hour']/24.0)\n",
        "p_cos_hour.name = 'cos_hour'\n",
        "\n",
        "# Join all dataframes.\n",
        "p_meta_final_df = pd.concat([meta_test[['comp_id', 'ratio', 'language', 'n_likes', 'duration']].reset_index(drop=True),\n",
        "                             p_embed, p_partner, p_partner_active, p_language, p_weekday, p_sin_hour, p_cos_hour], axis=1)\n",
        "p_meta_final_df.head()\n",
        "\n",
        "# subset our test image dataframe with index used on training set\n",
        "p_image_final_df = pd.concat([image_test[['comp_id']], image_index_df], axis=1)\n",
        "\n",
        "# Merge all test set tables.\n",
        "p_final_df = pd.merge(pd.merge(p_meta_final_df, p_image_final_df, on = 'comp_id'), \n",
        "                    pd.merge(desc_test, title_test, on = 'comp_id'), on = 'comp_id')\n",
        "#p_final_df = pd.read_csv('final_test_df.csv')\n",
        "p_final_df.shape"
      ],
      "metadata": {
        "colab": {
          "base_uri": "https://localhost:8080/"
        },
        "id": "LN4UTPpefReb",
        "outputId": "fd44f47d-bb49-40ba-9bdb-106baf21132d"
      },
      "execution_count": null,
      "outputs": [
        {
          "output_type": "execute_result",
          "data": {
            "text/plain": [
              "(986, 1388)"
            ]
          },
          "metadata": {},
          "execution_count": 26
        }
      ]
    },
    {
      "cell_type": "markdown",
      "source": [
        "train test split"
      ],
      "metadata": {
        "id": "J4L3BtFtf5Zf"
      }
    },
    {
      "cell_type": "code",
      "source": [
        "# Convert dataframe to numpy array.\n",
        "X = final_df.drop(['comp_id', 'views'], axis=1).to_numpy()\n",
        "y = final_df.loc[:, 'views'].to_numpy()\n",
        "\n",
        "# Train-Test Split\n",
        "X_train, X_test, y_train, y_test = train_test_split(X, y, test_size = 0.25, random_state = 121)\n",
        "print('Training set shape ', X_train.shape)\n",
        "print('Test set shape ', X_test.shape)\n",
        "#print(X_train)\n",
        "#print(X)"
      ],
      "metadata": {
        "colab": {
          "base_uri": "https://localhost:8080/"
        },
        "id": "M3roFXgAf8kK",
        "outputId": "10b1eea1-32d3-4c5e-a300-6ce9aebf8438"
      },
      "execution_count": null,
      "outputs": [
        {
          "output_type": "stream",
          "name": "stdout",
          "text": [
            "Training set shape  (2250, 1387)\n",
            "Test set shape  (750, 1387)\n"
          ]
        }
      ]
    },
    {
      "cell_type": "code",
      "source": [
        "trlabel = y_train\n",
        "telabel = y_test\n",
        "\n",
        "dtrain = xgb.DMatrix(X_train, label=trlabel)\n",
        "dtest  = xgb.DMatrix(X_test, label=telabel)\n"
      ],
      "metadata": {
        "id": "iv9XgpT2gOya"
      },
      "execution_count": null,
      "outputs": []
    },
    {
      "cell_type": "markdown",
      "source": [
        "setting parameters"
      ],
      "metadata": {
        "id": "e8MRm1ePgmxK"
      }
    },
    {
      "cell_type": "code",
      "source": [
        "# Set parameters.\n",
        "param = {'max_depth': 7, \n",
        "         'eta': 0.2,\n",
        "         'objective': 'reg:squarederror',\n",
        "         'nthread': 5,\n",
        "         'eval_metric': 'rmse'\n",
        "        }\n",
        "\n",
        "evallist = [(dtest, 'eval'), (dtrain, 'train')]"
      ],
      "metadata": {
        "id": "GFCyHRiWgo7G"
      },
      "execution_count": null,
      "outputs": []
    },
    {
      "cell_type": "markdown",
      "source": [
        "train the model"
      ],
      "metadata": {
        "id": "awOWRaCog2KF"
      }
    },
    {
      "cell_type": "code",
      "source": [
        "# Train the model.\n",
        "num_round = 70\n",
        "bst = xgb.train(param, dtrain, num_round, evallist)"
      ],
      "metadata": {
        "colab": {
          "base_uri": "https://localhost:8080/"
        },
        "id": "lCx3WfWWg4AT",
        "outputId": "547a48c9-97ca-43db-a535-c549024992f1"
      },
      "execution_count": null,
      "outputs": [
        {
          "output_type": "stream",
          "name": "stdout",
          "text": [
            "[0]\teval-rmse:1279.23\ttrain-rmse:1179.16\n",
            "[1]\teval-rmse:1218.13\ttrain-rmse:1059.67\n",
            "[2]\teval-rmse:1172.41\ttrain-rmse:978.234\n",
            "[3]\teval-rmse:1140.65\ttrain-rmse:903.757\n",
            "[4]\teval-rmse:1124.44\ttrain-rmse:839.028\n",
            "[5]\teval-rmse:1114.6\ttrain-rmse:790.458\n",
            "[6]\teval-rmse:1110.07\ttrain-rmse:732.671\n",
            "[7]\teval-rmse:1108.61\ttrain-rmse:708.463\n",
            "[8]\teval-rmse:1106.16\ttrain-rmse:665.929\n",
            "[9]\teval-rmse:1106.55\ttrain-rmse:623.156\n",
            "[10]\teval-rmse:1108.17\ttrain-rmse:597.593\n",
            "[11]\teval-rmse:1113.58\ttrain-rmse:551.722\n",
            "[12]\teval-rmse:1112.89\ttrain-rmse:523.347\n",
            "[13]\teval-rmse:1114.02\ttrain-rmse:496.569\n",
            "[14]\teval-rmse:1113.89\ttrain-rmse:474.414\n",
            "[15]\teval-rmse:1116.72\ttrain-rmse:452.051\n",
            "[16]\teval-rmse:1117.77\ttrain-rmse:433.12\n",
            "[17]\teval-rmse:1121.4\ttrain-rmse:409.371\n",
            "[18]\teval-rmse:1125.53\ttrain-rmse:384.556\n",
            "[19]\teval-rmse:1126.21\ttrain-rmse:370.517\n",
            "[20]\teval-rmse:1128.62\ttrain-rmse:360.737\n",
            "[21]\teval-rmse:1129.8\ttrain-rmse:341.253\n",
            "[22]\teval-rmse:1131.02\ttrain-rmse:323.179\n",
            "[23]\teval-rmse:1133.28\ttrain-rmse:302.843\n",
            "[24]\teval-rmse:1131.88\ttrain-rmse:282.722\n",
            "[25]\teval-rmse:1132.64\ttrain-rmse:267.135\n",
            "[26]\teval-rmse:1131.25\ttrain-rmse:255.659\n",
            "[27]\teval-rmse:1128.94\ttrain-rmse:235.795\n",
            "[28]\teval-rmse:1130.01\ttrain-rmse:223.757\n",
            "[29]\teval-rmse:1126.44\ttrain-rmse:211.77\n",
            "[30]\teval-rmse:1126.72\ttrain-rmse:200.734\n",
            "[31]\teval-rmse:1128.49\ttrain-rmse:193.194\n",
            "[32]\teval-rmse:1129.49\ttrain-rmse:183.058\n",
            "[33]\teval-rmse:1129.82\ttrain-rmse:175.925\n",
            "[34]\teval-rmse:1130.94\ttrain-rmse:166.825\n",
            "[35]\teval-rmse:1129.62\ttrain-rmse:160.705\n",
            "[36]\teval-rmse:1129.58\ttrain-rmse:149.727\n",
            "[37]\teval-rmse:1129.22\ttrain-rmse:144.634\n",
            "[38]\teval-rmse:1129.83\ttrain-rmse:134.275\n",
            "[39]\teval-rmse:1129.52\ttrain-rmse:123.793\n",
            "[40]\teval-rmse:1130.05\ttrain-rmse:115.992\n",
            "[41]\teval-rmse:1130.17\ttrain-rmse:109.267\n",
            "[42]\teval-rmse:1130.29\ttrain-rmse:103.817\n",
            "[43]\teval-rmse:1129.62\ttrain-rmse:100.931\n",
            "[44]\teval-rmse:1129.86\ttrain-rmse:93.8448\n",
            "[45]\teval-rmse:1129.5\ttrain-rmse:89.281\n",
            "[46]\teval-rmse:1129.57\ttrain-rmse:87.1449\n",
            "[47]\teval-rmse:1129.54\ttrain-rmse:82.4232\n",
            "[48]\teval-rmse:1129.43\ttrain-rmse:79.7138\n",
            "[49]\teval-rmse:1129.74\ttrain-rmse:76.4673\n",
            "[50]\teval-rmse:1129.72\ttrain-rmse:72.7971\n",
            "[51]\teval-rmse:1129.68\ttrain-rmse:68.8233\n",
            "[52]\teval-rmse:1129.63\ttrain-rmse:65.3217\n",
            "[53]\teval-rmse:1129.85\ttrain-rmse:62.0915\n",
            "[54]\teval-rmse:1129.89\ttrain-rmse:58.3468\n",
            "[55]\teval-rmse:1129.67\ttrain-rmse:55.6285\n",
            "[56]\teval-rmse:1129.64\ttrain-rmse:52.8305\n",
            "[57]\teval-rmse:1129.34\ttrain-rmse:48.8645\n",
            "[58]\teval-rmse:1129.21\ttrain-rmse:46.8128\n",
            "[59]\teval-rmse:1129.12\ttrain-rmse:44.7076\n",
            "[60]\teval-rmse:1129.23\ttrain-rmse:41.6053\n",
            "[61]\teval-rmse:1129.25\ttrain-rmse:40.3215\n",
            "[62]\teval-rmse:1129\ttrain-rmse:37.3991\n",
            "[63]\teval-rmse:1129.28\ttrain-rmse:34.8594\n",
            "[64]\teval-rmse:1129.56\ttrain-rmse:32.7439\n",
            "[65]\teval-rmse:1129.71\ttrain-rmse:30.9567\n",
            "[66]\teval-rmse:1129.72\ttrain-rmse:29.0293\n",
            "[67]\teval-rmse:1129.85\ttrain-rmse:27.0545\n",
            "[68]\teval-rmse:1129.66\ttrain-rmse:24.6554\n",
            "[69]\teval-rmse:1129.38\ttrain-rmse:23.2008\n"
          ]
        }
      ]
    },
    {
      "cell_type": "code",
      "source": [
        "# Make prediction.\n",
        "ypred = bst.predict(dtest).round()\n",
        "ytrainpred = bst.predict(dtrain).round()\n",
        "# Compute RMSE on test set.\n",
        "mse_xgboost = mean_squared_error(y_test, ypred)\n",
        "rmse_xgboost = math.sqrt(mse_xgboost)\n",
        "\n",
        "print('RMSE with XGBoost', rmse_xgboost)\n",
        "#xgboost.get_params()\n",
        "print(ypred)"
      ],
      "metadata": {
        "colab": {
          "base_uri": "https://localhost:8080/"
        },
        "id": "kI4DK0qphbRD",
        "outputId": "ce5c26ee-166c-4a9b-fc0d-2afcb66699f3"
      },
      "execution_count": null,
      "outputs": [
        {
          "output_type": "stream",
          "name": "stdout",
          "text": [
            "RMSE with XGBoost 1129.371014916415\n",
            "[1322.  341. 1937.  789. 1268.  494.  239.  390.  323. 1644.  163.  370.\n",
            "  500. 1889.  139.   51.  569.  233.  266.  218.  327.  218. 1858.  227.\n",
            "  489.  220.  119.  477.  396. 1137.  744.  436.  447.   80.  352.  259.\n",
            "  267.   28.  605.  160.  117. 4574.  109.  442.   -9.  592. 1456.  951.\n",
            "  317.  655. 1873.  140.  364. 2378.  255.  495.  410.  316.  208.  515.\n",
            "  464.  933.  617.  177.  269.  267.  236.  126.  371. 1599.  191.  341.\n",
            "  363.  151.  216. 4402. 2568.   85.  404.  606.  111.   23. 1697. 2422.\n",
            "  305.  205.  271.  441. 1043.  333.  379.  254.  436. 1141. 1018.  232.\n",
            "  268.  854.  813.  224.  766.  418.  405.  277. 1005.  330.  560.  268.\n",
            "   32. 4356.  655. 1217.  322.  464.  510.  148.   70.  322.  908.  535.\n",
            " 1146.  368.  274. 2824.  389.  530.  374.  230.  194. 1616.  271. 1504.\n",
            "  429.  412.  197. 1212.  112.  618.  970.  964.  178.  231.  284.   56.\n",
            "  270.   27.  128.  169.  169. 1172. 1111.  488.  196.  676. 1351. 1352.\n",
            " 1015.  585.  355.  243.  145. 1504.  165. 1386.  111. 2198.  212.  116.\n",
            "   -7.   75.  288.  150. 1359. 3779.  261.  131. 1553.  169.  362.  571.\n",
            "  123.   56.  154.   97.  352.  110.  483.  150.  303.  263.   55.  500.\n",
            "  342.  563. 4708.  456.  196.  218.   34.  257.  258.   81.  223.  172.\n",
            " 2946.  492.  128. 4004.  157.  734.  205.  930.  273.  147.  794.  211.\n",
            "  112.  220.  361.  235.  219.  289. 1083.  480.  515. 1701.  630.  210.\n",
            "  537.  841.  358. 1884.  247.  157.  278. 1804.  899.  155.  172.  791.\n",
            " 1029.  469.  451.  190.  294.  237.  175.  260.  487.  651.  126.  136.\n",
            "  473.  108.  662. 1168. 1035.  214.  327.  447.  317.  337.  107.  205.\n",
            "  532. 2073.  193.  970. 3696.  669.  551. 1362. 1362.  181.  208.   97.\n",
            "  587.  213.  278.  401.  248. 1286.  217. 1304.  304.  977.  204.  753.\n",
            "  348.   99.  254.  784.  577.  496.  302.  140.  623.  341.  468.  123.\n",
            "  569. 1222.  133.  468.  642. 1745.  365. 3990.  462.  264.  224.  160.\n",
            "  323.  284.  236.  200. 1640. 1249.   89.  293.  272.  415.  163.  418.\n",
            " 1007.  193.  287.  680.  391.  575.   66.  287.   25.  110.  523.  124.\n",
            " 2765.  148.  177.  240.  498.  141.  300.  212.  116. 2005.   49.   63.\n",
            "  232.  501.  283.  398.  397.  313. 1461.   79.  132.  958.  464.  106.\n",
            "  225.  533.  272.  198.  327.  632.  181.   88.  268.  362.  411.   21.\n",
            "  243. 3532.  296.  156.  502.  286.  742.  307.  145.  197.  354.  469.\n",
            " 5507.  135.  740.  191.  260.  792.  186.  465.  184.  208.  821.  757.\n",
            "  115.  203.  300.  149.  485.  229.  628.   66.  470.  388.   66.  647.\n",
            "  297.  987. 1860. 1775.  515.  202.   69.  211. 2807. 1076.  288.   59.\n",
            "  893.   60.  229.  215. 1002.  553. 3016.  236. 2170.  264.  151.  347.\n",
            "  279. 1115.  323.  130.  810.  568.  159.  504.  396.  375.  183.  206.\n",
            "  639.  847.  247.  338.  440.  822.  257. 1700.  206.  265.   59.   89.\n",
            " 1458.  543. 1641. 2184. 2553.  176.  176.  174. 1001.   97. 1363.  237.\n",
            "  641.  368.  223.  504. 2201. 3465.   97.  663.  276.  234.  128.  139.\n",
            "  664.  172.  805.  173.  181. 3460.   90.  459.  178.  271.  620.  234.\n",
            "  772.  145. 1031.  932.  830.  310.  522.  681.  135.  435.  161.  255.\n",
            "  434.  475.  337.  268.  359.  479.  311. 1125.  510.  412.  200.  345.\n",
            "  262.  179.  265. 1478.  125.  504.  -43.   82.  187.   86.  192.  349.\n",
            "  194.  619.  506.  224.  134.  751.   47.  241.  687.  645.   47. 2953.\n",
            "  809.  336. 1862.  501.  205.  316.  185.  118.  546. 3109.  820.  363.\n",
            "  249. 2148.  170.  500.  561.  416.  710.  319.  261.  181.  346.  211.\n",
            "  132.   97.  325.  616.  869. 2035.  931.  314.  146.  665.  304. 1377.\n",
            " 1078.  -18.  327.  583.  405.  294.  914. 1060.  497.  223.  495.  163.\n",
            "  691.   48. 1046.   80.  113.  265.  201.  295.  119.   79. 1502.  269.\n",
            "   73.  119.  302.  281.  495.  234.  807. 1077. 1137. 1427.  709.  256.\n",
            "  159.   89.   99.  225.  436.  260. 2623.  -71.   90.  141. 2666.  148.\n",
            "  509.  395.  620.  539.  168.   78. 2490.  826.  223.  191.   89. 1168.\n",
            "  158.  622.  445.  244.  311.  129. 3302. 1319.  282.  466.   69.  -50.\n",
            "  356.  419.  378.  660.  202.  239.  293.  325.  458.  285.  534.  274.\n",
            "  334.  302.  275. 2045.  195. 5554.  388.  676. 2862.  364.  405.  420.\n",
            "  208.  666.  253.  386.  140.  499. 1245.  497.  222.  136.  153.  582.\n",
            "  326.   79.  184.  286.  200.   74. 3111. 1286.  112.  122.  181.  159.\n",
            "  312.  152. 1302.  257.  939. 4402.  302.  160.  158. 1320.  185.  235.\n",
            "  167.   38.  123.  740.  422.  267.  104.  309.  210.   40.  110.  497.\n",
            "  313.  174.   80.  142.  155.  115.  513.  196. 1081.  200.  432.  300.\n",
            "  197.  328. 2086.  496.  247. 3037.  260.  115.  863. 2146.  110.  482.\n",
            "  223.  150.  306.  183.  476.  262.]\n"
          ]
        }
      ]
    }
  ]
}